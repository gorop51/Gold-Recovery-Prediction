{
 "cells": [
  {
   "cell_type": "markdown",
   "metadata": {},
   "source": [
    "# Проект"
   ]
  },
  {
   "cell_type": "markdown",
   "metadata": {},
   "source": [
    "## Вступление"
   ]
  },
  {
   "cell_type": "markdown",
   "metadata": {},
   "source": [
    "### Содержание"
   ]
  },
  {
   "cell_type": "markdown",
   "metadata": {
    "toc": true
   },
   "source": [
    "<h1><span class=\"tocSkip\"></span></h1>\n",
    "<div class=\"toc\"><ul class=\"toc-item\"><li><span><a href=\"#Вступление\" data-toc-modified-id=\"Вступление-1\"><span class=\"toc-item-num\">1&nbsp;&nbsp;</span>Вступление</a></span><ul class=\"toc-item\"><li><span><a href=\"#Содержание\" data-toc-modified-id=\"Содержание-1.1\"><span class=\"toc-item-num\">1.1&nbsp;&nbsp;</span>Содержание</a></span></li><li><span><a href=\"#Краткое-описание-проекта\" data-toc-modified-id=\"Краткое-описание-проекта-1.2\"><span class=\"toc-item-num\">1.2&nbsp;&nbsp;</span>Краткое описание проекта</a></span></li><li><span><a href=\"#Цель-проекта\" data-toc-modified-id=\"Цель-проекта-1.3\"><span class=\"toc-item-num\">1.3&nbsp;&nbsp;</span>Цель проекта</a></span></li><li><span><a href=\"#Описание-данных\" data-toc-modified-id=\"Описание-данных-1.4\"><span class=\"toc-item-num\">1.4&nbsp;&nbsp;</span>Описание данных</a></span></li></ul></li><li><span><a href=\"#Подготовка-и-исследование-данных\" data-toc-modified-id=\"Подготовка-и-исследование-данных-2\"><span class=\"toc-item-num\">2&nbsp;&nbsp;</span>Подготовка и исследование данных</a></span><ul class=\"toc-item\"><li><span><a href=\"#Подключение-библиотек-и-датафреймов\" data-toc-modified-id=\"Подключение-библиотек-и-датафреймов-2.1\"><span class=\"toc-item-num\">2.1&nbsp;&nbsp;</span>Подключение библиотек и датафреймов</a></span></li><li><span><a href=\"#Информация-о-датафреймах\" data-toc-modified-id=\"Информация-о-датафреймах-2.2\"><span class=\"toc-item-num\">2.2&nbsp;&nbsp;</span>Информация о датафреймах</a></span></li><li><span><a href=\"#Проверка-корректности-расчета-эффективности-обогащения-в-обучающей-выборке\" data-toc-modified-id=\"Проверка-корректности-расчета-эффективности-обогащения-в-обучающей-выборке-2.3\"><span class=\"toc-item-num\">2.3&nbsp;&nbsp;</span>Проверка корректности расчета эффективности обогащения в обучающей выборке</a></span></li><li><span><a href=\"#Признаки-которых-нет-в-тестовой-выборке\" data-toc-modified-id=\"Признаки-которых-нет-в-тестовой-выборке-2.4\"><span class=\"toc-item-num\">2.4&nbsp;&nbsp;</span>Признаки которых нет в тестовой выборке</a></span></li><li><span><a href=\"#Вывод-из-обзора-данных\" data-toc-modified-id=\"Вывод-из-обзора-данных-2.5\"><span class=\"toc-item-num\">2.5&nbsp;&nbsp;</span>Вывод из обзора данных</a></span></li><li><span><a href=\"#Предобработка-данных\" data-toc-modified-id=\"Предобработка-данных-2.6\"><span class=\"toc-item-num\">2.6&nbsp;&nbsp;</span>Предобработка данных</a></span></li></ul></li><li><span><a href=\"#Анализ-данных\" data-toc-modified-id=\"Анализ-данных-3\"><span class=\"toc-item-num\">3&nbsp;&nbsp;</span>Анализ данных</a></span><ul class=\"toc-item\"><li><span><a href=\"#Концентрация-металлов-(Au,-Ag,-Pb)-на-различных-этапах-очистки\" data-toc-modified-id=\"Концентрация-металлов-(Au,-Ag,-Pb)-на-различных-этапах-очистки-3.1\"><span class=\"toc-item-num\">3.1&nbsp;&nbsp;</span>Концентрация металлов (Au, Ag, Pb) на различных этапах очистки</a></span></li><li><span><a href=\"#Распределения-размеров-гранул-сырья-на-обучающей-и-тестовой-выборках\" data-toc-modified-id=\"Распределения-размеров-гранул-сырья-на-обучающей-и-тестовой-выборках-3.2\"><span class=\"toc-item-num\">3.2&nbsp;&nbsp;</span>Распределения размеров гранул сырья на обучающей и тестовой выборках</a></span></li><li><span><a href=\"#Cуммарная-концентрация-всех-веществ-на-разных-стадиях-очистки\" data-toc-modified-id=\"Cуммарная-концентрация-всех-веществ-на-разных-стадиях-очистки-3.3\"><span class=\"toc-item-num\">3.3&nbsp;&nbsp;</span>Cуммарная концентрация всех веществ на разных стадиях очистки</a></span></li></ul></li><li><span><a href=\"#Модель\" data-toc-modified-id=\"Модель-4\"><span class=\"toc-item-num\">4&nbsp;&nbsp;</span>Модель</a></span><ul class=\"toc-item\"><li><span><a href=\"#Функция-метрики-качества\" data-toc-modified-id=\"Функция-метрики-качества-4.1\"><span class=\"toc-item-num\">4.1&nbsp;&nbsp;</span>Функция метрики качества</a></span></li><li><span><a href=\"#Поиск-лучшей-модели\" data-toc-modified-id=\"Поиск-лучшей-модели-4.2\"><span class=\"toc-item-num\">4.2&nbsp;&nbsp;</span>Поиск лучшей модели</a></span></li><li><span><a href=\"#Проверка-модели-на-тестовой-выборке\" data-toc-modified-id=\"Проверка-модели-на-тестовой-выборке-4.3\"><span class=\"toc-item-num\">4.3&nbsp;&nbsp;</span>Проверка модели на тестовой выборке</a></span></li></ul></li><li><span><a href=\"#Проверка-адеватности-модели\" data-toc-modified-id=\"Проверка-адеватности-модели-5\"><span class=\"toc-item-num\">5&nbsp;&nbsp;</span>Проверка адеватности модели</a></span></li><li><span><a href=\"#Общий-итог\" data-toc-modified-id=\"Общий-итог-6\"><span class=\"toc-item-num\">6&nbsp;&nbsp;</span>Общий итог</a></span></li><li><span><a href=\"#Чек-лист-готовности-проекта\" data-toc-modified-id=\"Чек-лист-готовности-проекта-7\"><span class=\"toc-item-num\">7&nbsp;&nbsp;</span>Чек-лист готовности проекта</a></span></li></ul></div>"
   ]
  },
  {
   "cell_type": "markdown",
   "metadata": {},
   "source": [
    "### Краткое описание проекта"
   ]
  },
  {
   "cell_type": "markdown",
   "metadata": {},
   "source": [
    "Компания \"Цифра\" разрабатывает решения для эффективной работы промышленных предприятий.\n",
    "В вашем распоряжении данные с параметрами добычи и очистки золотосодержащей руды."
   ]
  },
  {
   "cell_type": "markdown",
   "metadata": {},
   "source": [
    "### Цель проекта"
   ]
  },
  {
   "cell_type": "markdown",
   "metadata": {},
   "source": [
    "Нужно подготовить прототип модели машинного обучения, которая должна предсказать коэффициент восстановления золота из золотосодержащей руды. Модель поможет оптимизировать производство, чтобы не запускать предприятие с убыточными характеристиками."
   ]
  },
  {
   "cell_type": "markdown",
   "metadata": {},
   "source": [
    "### Описание данных"
   ]
  },
  {
   "cell_type": "markdown",
   "metadata": {},
   "source": [
    "Технологический процесс:\n",
    "- <font style=\"font-style: italic;\" color='maroon'>Rougher feed</font> — исходное сырье\n",
    "- <font style=\"font-style: italic;\" color='maroon'>Rougher additions (или reagent additions)</font> — флотационные реагенты:\n",
    "    - <font style=\"font-style: italic;\" color='green'>Xanthate **</font>— ксантогенат (промотер, или активатор флотации)\n",
    "    - <font style=\"font-style: italic;\" color='green'>Sulphate</font> — сульфат (на данном производстве сульфид натрия)\n",
    "    - <font style=\"font-style: italic;\" color='green'>Depressant</font> — депрессант (силикат натрия)\n",
    "- <font style=\"font-style: italic;\" color='maroon'>Rougher process (англ. «грубый процесс»)</font> — флотация\n",
    "- <font style=\"font-style: italic;\" color='maroon'>Rougher tails</font> — отвальные хвосты\n",
    "- <font style=\"font-style: italic;\" color='maroon'>Float banks</font> — флотационная установка\n",
    "- <font style=\"font-style: italic;\" color='maroon'>Cleaner process</font> — очистка\n",
    "- <font style=\"font-style: italic;\" color='maroon'>Rougher Au</font> — черновой концентрат золота\n",
    "- <font style=\"font-style: italic;\" color='maroon'>Final Au</font> — финальный концентрат золота"
   ]
  },
  {
   "cell_type": "markdown",
   "metadata": {},
   "source": [
    "Наимененование признаков:\n",
    "    <div><code>[этап].[тип_параметра].[название_параметра]</code>"
   ]
  },
  {
   "cell_type": "markdown",
   "metadata": {},
   "source": [
    "Возможные значения для блока <code>[этап]</code>:\n",
    "- <font style=\"font-style: italic;\" color='maroon'>rougher</font> — флотация\n",
    "- <font style=\"font-style: italic;\" color='maroon'>primary_cleaner</font> — первичная очистка\n",
    "- <font style=\"font-style: italic;\" color='maroon'>secondary_cleaner</font> — вторичная очистка\n",
    "- <font style=\"font-style: italic;\" color='maroon'>final</font> — финальные характеристики"
   ]
  },
  {
   "cell_type": "markdown",
   "metadata": {},
   "source": [
    "Возможные значения для блока <code>[тип_параметра]</code>:\n",
    "- <font style=\"font-style: italic;\" color='maroon'>input</font> — параметры сырья\n",
    "- <font style=\"font-style: italic;\" color='maroon'>output</font> — параметры продукта\n",
    "- <font style=\"font-style: italic;\" color='maroon'>state</font> — параметры, характеризующие текущее состояние этапа\n",
    "- <font style=\"font-style: italic;\" color='maroon'>calculation</font> — расчётные характеристики"
   ]
  },
  {
   "cell_type": "markdown",
   "metadata": {},
   "source": [
    "Возможные параметры этапов:\n",
    "- <font style=\"font-style: italic;\" color='maroon'>air amount</font> — объём воздуха\n",
    "- <font style=\"font-style: italic;\" color='maroon'>fluid levels</font> — уровень жидкости\n",
    "- <font style=\"font-style: italic;\" color='maroon'>feed size</font> — размер гранул сырья\n",
    "- <font style=\"font-style: italic;\" color='maroon'>feed rate</font> — скорость подачи"
   ]
  },
  {
   "cell_type": "markdown",
   "metadata": {},
   "source": [
    "## Подготовка и исследование данных"
   ]
  },
  {
   "cell_type": "markdown",
   "metadata": {},
   "source": [
    "### Подключение библиотек и датафреймов"
   ]
  },
  {
   "cell_type": "markdown",
   "metadata": {},
   "source": [
    "Библиотеки:"
   ]
  },
  {
   "cell_type": "code",
   "execution_count": 1,
   "metadata": {},
   "outputs": [],
   "source": [
    "import pandas as pd\n",
    "from sklearn.metrics import mean_absolute_error, make_scorer\n",
    "from numpy import isnan, array, arange\n",
    "from sklearn.preprocessing import StandardScaler\n",
    "from sklearn.ensemble import RandomForestRegressor\n",
    "from matplotlib import pyplot as plt\n",
    "from seaborn import histplot\n",
    "from scipy.stats import mannwhitneyu\n",
    "from sklearn.model_selection import GridSearchCV\n",
    "from sklearn.linear_model import RidgeCV\n",
    "from sklearn.dummy import DummyRegressor"
   ]
  },
  {
   "cell_type": "markdown",
   "metadata": {},
   "source": [
    "Датафреймы:"
   ]
  },
  {
   "cell_type": "code",
   "execution_count": 2,
   "metadata": {},
   "outputs": [],
   "source": [
    "try:\n",
    "    data_train = pd.read_csv('/datasets/gold_recovery_train_new.csv')\n",
    "    data_test = pd.read_csv('/datasets/gold_recovery_test_new.csv')\n",
    "    data = pd.read_csv('/datasets/gold_recovery_full_new.csv')\n",
    "except:\n",
    "    data_train = pd.read_csv('D:\\jupyter\\datasets\\gold_recovery_train_new.csv')\n",
    "    data_test = pd.read_csv('D:\\jupyter\\datasets\\gold_recovery_test_new.csv')\n",
    "    data = pd.read_csv('D:\\jupyter\\datasets\\gold_recovery_full_new.csv')"
   ]
  },
  {
   "cell_type": "markdown",
   "metadata": {},
   "source": [
    "### Информация о датафреймах"
   ]
  },
  {
   "cell_type": "markdown",
   "metadata": {},
   "source": [
    "Обучающая выборка:"
   ]
  },
  {
   "cell_type": "code",
   "execution_count": 3,
   "metadata": {
    "scrolled": true
   },
   "outputs": [
    {
     "name": "stdout",
     "output_type": "stream",
     "text": [
      "<class 'pandas.core.frame.DataFrame'>\n",
      "RangeIndex: 14149 entries, 0 to 14148\n",
      "Data columns (total 87 columns):\n",
      " #   Column                                              Non-Null Count  Dtype  \n",
      "---  ------                                              --------------  -----  \n",
      " 0   date                                                14149 non-null  object \n",
      " 1   final.output.concentrate_ag                         14148 non-null  float64\n",
      " 2   final.output.concentrate_pb                         14148 non-null  float64\n",
      " 3   final.output.concentrate_sol                        13938 non-null  float64\n",
      " 4   final.output.concentrate_au                         14149 non-null  float64\n",
      " 5   final.output.recovery                               14149 non-null  float64\n",
      " 6   final.output.tail_ag                                14149 non-null  float64\n",
      " 7   final.output.tail_pb                                14049 non-null  float64\n",
      " 8   final.output.tail_sol                               14144 non-null  float64\n",
      " 9   final.output.tail_au                                14149 non-null  float64\n",
      " 10  primary_cleaner.input.sulfate                       14129 non-null  float64\n",
      " 11  primary_cleaner.input.depressant                    14117 non-null  float64\n",
      " 12  primary_cleaner.input.feed_size                     14149 non-null  float64\n",
      " 13  primary_cleaner.input.xanthate                      14049 non-null  float64\n",
      " 14  primary_cleaner.output.concentrate_ag               14149 non-null  float64\n",
      " 15  primary_cleaner.output.concentrate_pb               14063 non-null  float64\n",
      " 16  primary_cleaner.output.concentrate_sol              13863 non-null  float64\n",
      " 17  primary_cleaner.output.concentrate_au               14149 non-null  float64\n",
      " 18  primary_cleaner.output.tail_ag                      14148 non-null  float64\n",
      " 19  primary_cleaner.output.tail_pb                      14134 non-null  float64\n",
      " 20  primary_cleaner.output.tail_sol                     14103 non-null  float64\n",
      " 21  primary_cleaner.output.tail_au                      14149 non-null  float64\n",
      " 22  primary_cleaner.state.floatbank8_a_air              14145 non-null  float64\n",
      " 23  primary_cleaner.state.floatbank8_a_level            14148 non-null  float64\n",
      " 24  primary_cleaner.state.floatbank8_b_air              14145 non-null  float64\n",
      " 25  primary_cleaner.state.floatbank8_b_level            14148 non-null  float64\n",
      " 26  primary_cleaner.state.floatbank8_c_air              14147 non-null  float64\n",
      " 27  primary_cleaner.state.floatbank8_c_level            14148 non-null  float64\n",
      " 28  primary_cleaner.state.floatbank8_d_air              14146 non-null  float64\n",
      " 29  primary_cleaner.state.floatbank8_d_level            14148 non-null  float64\n",
      " 30  rougher.calculation.sulfate_to_au_concentrate       14148 non-null  float64\n",
      " 31  rougher.calculation.floatbank10_sulfate_to_au_feed  14148 non-null  float64\n",
      " 32  rougher.calculation.floatbank11_sulfate_to_au_feed  14148 non-null  float64\n",
      " 33  rougher.calculation.au_pb_ratio                     14149 non-null  float64\n",
      " 34  rougher.input.feed_ag                               14149 non-null  float64\n",
      " 35  rougher.input.feed_pb                               14049 non-null  float64\n",
      " 36  rougher.input.feed_rate                             14141 non-null  float64\n",
      " 37  rougher.input.feed_size                             14005 non-null  float64\n",
      " 38  rougher.input.feed_sol                              14071 non-null  float64\n",
      " 39  rougher.input.feed_au                               14149 non-null  float64\n",
      " 40  rougher.input.floatbank10_sulfate                   14120 non-null  float64\n",
      " 41  rougher.input.floatbank10_xanthate                  14141 non-null  float64\n",
      " 42  rougher.input.floatbank11_sulfate                   14113 non-null  float64\n",
      " 43  rougher.input.floatbank11_xanthate                  13721 non-null  float64\n",
      " 44  rougher.output.concentrate_ag                       14149 non-null  float64\n",
      " 45  rougher.output.concentrate_pb                       14149 non-null  float64\n",
      " 46  rougher.output.concentrate_sol                      14127 non-null  float64\n",
      " 47  rougher.output.concentrate_au                       14149 non-null  float64\n",
      " 48  rougher.output.recovery                             14149 non-null  float64\n",
      " 49  rougher.output.tail_ag                              14148 non-null  float64\n",
      " 50  rougher.output.tail_pb                              14149 non-null  float64\n",
      " 51  rougher.output.tail_sol                             14149 non-null  float64\n",
      " 52  rougher.output.tail_au                              14149 non-null  float64\n",
      " 53  rougher.state.floatbank10_a_air                     14148 non-null  float64\n",
      " 54  rougher.state.floatbank10_a_level                   14148 non-null  float64\n",
      " 55  rougher.state.floatbank10_b_air                     14148 non-null  float64\n",
      " 56  rougher.state.floatbank10_b_level                   14148 non-null  float64\n",
      " 57  rougher.state.floatbank10_c_air                     14148 non-null  float64\n",
      " 58  rougher.state.floatbank10_c_level                   14148 non-null  float64\n",
      " 59  rougher.state.floatbank10_d_air                     14149 non-null  float64\n",
      " 60  rougher.state.floatbank10_d_level                   14149 non-null  float64\n",
      " 61  rougher.state.floatbank10_e_air                     13713 non-null  float64\n",
      " 62  rougher.state.floatbank10_e_level                   14149 non-null  float64\n",
      " 63  rougher.state.floatbank10_f_air                     14149 non-null  float64\n",
      " 64  rougher.state.floatbank10_f_level                   14149 non-null  float64\n",
      " 65  secondary_cleaner.output.tail_ag                    14147 non-null  float64\n",
      " 66  secondary_cleaner.output.tail_pb                    14139 non-null  float64\n",
      " 67  secondary_cleaner.output.tail_sol                   12544 non-null  float64\n",
      " 68  secondary_cleaner.output.tail_au                    14149 non-null  float64\n",
      " 69  secondary_cleaner.state.floatbank2_a_air            13932 non-null  float64\n",
      " 70  secondary_cleaner.state.floatbank2_a_level          14148 non-null  float64\n",
      " 71  secondary_cleaner.state.floatbank2_b_air            14128 non-null  float64\n",
      " 72  secondary_cleaner.state.floatbank2_b_level          14148 non-null  float64\n",
      " 73  secondary_cleaner.state.floatbank3_a_air            14145 non-null  float64\n",
      " 74  secondary_cleaner.state.floatbank3_a_level          14148 non-null  float64\n",
      " 75  secondary_cleaner.state.floatbank3_b_air            14148 non-null  float64\n",
      " 76  secondary_cleaner.state.floatbank3_b_level          14148 non-null  float64\n",
      " 77  secondary_cleaner.state.floatbank4_a_air            14143 non-null  float64\n",
      " 78  secondary_cleaner.state.floatbank4_a_level          14148 non-null  float64\n",
      " 79  secondary_cleaner.state.floatbank4_b_air            14148 non-null  float64\n",
      " 80  secondary_cleaner.state.floatbank4_b_level          14148 non-null  float64\n",
      " 81  secondary_cleaner.state.floatbank5_a_air            14148 non-null  float64\n",
      " 82  secondary_cleaner.state.floatbank5_a_level          14148 non-null  float64\n",
      " 83  secondary_cleaner.state.floatbank5_b_air            14148 non-null  float64\n",
      " 84  secondary_cleaner.state.floatbank5_b_level          14148 non-null  float64\n",
      " 85  secondary_cleaner.state.floatbank6_a_air            14147 non-null  float64\n",
      " 86  secondary_cleaner.state.floatbank6_a_level          14148 non-null  float64\n",
      "dtypes: float64(86), object(1)\n",
      "memory usage: 9.4+ MB\n"
     ]
    }
   ],
   "source": [
    "data_train.info()"
   ]
  },
  {
   "cell_type": "code",
   "execution_count": 4,
   "metadata": {
    "scrolled": true
   },
   "outputs": [
    {
     "data": {
      "text/html": [
       "<div>\n",
       "<style scoped>\n",
       "    .dataframe tbody tr th:only-of-type {\n",
       "        vertical-align: middle;\n",
       "    }\n",
       "\n",
       "    .dataframe tbody tr th {\n",
       "        vertical-align: top;\n",
       "    }\n",
       "\n",
       "    .dataframe thead th {\n",
       "        text-align: right;\n",
       "    }\n",
       "</style>\n",
       "<table border=\"1\" class=\"dataframe\">\n",
       "  <thead>\n",
       "    <tr style=\"text-align: right;\">\n",
       "      <th></th>\n",
       "      <th>date</th>\n",
       "      <th>final.output.concentrate_ag</th>\n",
       "      <th>final.output.concentrate_pb</th>\n",
       "      <th>final.output.concentrate_sol</th>\n",
       "      <th>final.output.concentrate_au</th>\n",
       "      <th>final.output.recovery</th>\n",
       "      <th>final.output.tail_ag</th>\n",
       "      <th>final.output.tail_pb</th>\n",
       "      <th>final.output.tail_sol</th>\n",
       "      <th>final.output.tail_au</th>\n",
       "      <th>...</th>\n",
       "      <th>secondary_cleaner.state.floatbank4_a_air</th>\n",
       "      <th>secondary_cleaner.state.floatbank4_a_level</th>\n",
       "      <th>secondary_cleaner.state.floatbank4_b_air</th>\n",
       "      <th>secondary_cleaner.state.floatbank4_b_level</th>\n",
       "      <th>secondary_cleaner.state.floatbank5_a_air</th>\n",
       "      <th>secondary_cleaner.state.floatbank5_a_level</th>\n",
       "      <th>secondary_cleaner.state.floatbank5_b_air</th>\n",
       "      <th>secondary_cleaner.state.floatbank5_b_level</th>\n",
       "      <th>secondary_cleaner.state.floatbank6_a_air</th>\n",
       "      <th>secondary_cleaner.state.floatbank6_a_level</th>\n",
       "    </tr>\n",
       "  </thead>\n",
       "  <tbody>\n",
       "    <tr>\n",
       "      <th>0</th>\n",
       "      <td>2016-01-15 00:00:00</td>\n",
       "      <td>6.055403</td>\n",
       "      <td>9.889648</td>\n",
       "      <td>5.507324</td>\n",
       "      <td>42.192020</td>\n",
       "      <td>70.541216</td>\n",
       "      <td>10.411962</td>\n",
       "      <td>0.895447</td>\n",
       "      <td>16.904297</td>\n",
       "      <td>2.143149</td>\n",
       "      <td>...</td>\n",
       "      <td>14.016835</td>\n",
       "      <td>-502.488007</td>\n",
       "      <td>12.099931</td>\n",
       "      <td>-504.715942</td>\n",
       "      <td>9.925633</td>\n",
       "      <td>-498.310211</td>\n",
       "      <td>8.079666</td>\n",
       "      <td>-500.470978</td>\n",
       "      <td>14.151341</td>\n",
       "      <td>-605.841980</td>\n",
       "    </tr>\n",
       "    <tr>\n",
       "      <th>1</th>\n",
       "      <td>2016-01-15 01:00:00</td>\n",
       "      <td>6.029369</td>\n",
       "      <td>9.968944</td>\n",
       "      <td>5.257781</td>\n",
       "      <td>42.701629</td>\n",
       "      <td>69.266198</td>\n",
       "      <td>10.462676</td>\n",
       "      <td>0.927452</td>\n",
       "      <td>16.634514</td>\n",
       "      <td>2.224930</td>\n",
       "      <td>...</td>\n",
       "      <td>13.992281</td>\n",
       "      <td>-505.503262</td>\n",
       "      <td>11.950531</td>\n",
       "      <td>-501.331529</td>\n",
       "      <td>10.039245</td>\n",
       "      <td>-500.169983</td>\n",
       "      <td>7.984757</td>\n",
       "      <td>-500.582168</td>\n",
       "      <td>13.998353</td>\n",
       "      <td>-599.787184</td>\n",
       "    </tr>\n",
       "    <tr>\n",
       "      <th>2</th>\n",
       "      <td>2016-01-15 02:00:00</td>\n",
       "      <td>6.055926</td>\n",
       "      <td>10.213995</td>\n",
       "      <td>5.383759</td>\n",
       "      <td>42.657501</td>\n",
       "      <td>68.116445</td>\n",
       "      <td>10.507046</td>\n",
       "      <td>0.953716</td>\n",
       "      <td>16.208849</td>\n",
       "      <td>2.257889</td>\n",
       "      <td>...</td>\n",
       "      <td>14.015015</td>\n",
       "      <td>-502.520901</td>\n",
       "      <td>11.912783</td>\n",
       "      <td>-501.133383</td>\n",
       "      <td>10.070913</td>\n",
       "      <td>-500.129135</td>\n",
       "      <td>8.013877</td>\n",
       "      <td>-500.517572</td>\n",
       "      <td>14.028663</td>\n",
       "      <td>-601.427363</td>\n",
       "    </tr>\n",
       "    <tr>\n",
       "      <th>3</th>\n",
       "      <td>2016-01-15 03:00:00</td>\n",
       "      <td>6.047977</td>\n",
       "      <td>9.977019</td>\n",
       "      <td>4.858634</td>\n",
       "      <td>42.689819</td>\n",
       "      <td>68.347543</td>\n",
       "      <td>10.422762</td>\n",
       "      <td>0.883763</td>\n",
       "      <td>16.532835</td>\n",
       "      <td>2.146849</td>\n",
       "      <td>...</td>\n",
       "      <td>14.036510</td>\n",
       "      <td>-500.857308</td>\n",
       "      <td>11.999550</td>\n",
       "      <td>-501.193686</td>\n",
       "      <td>9.970366</td>\n",
       "      <td>-499.201640</td>\n",
       "      <td>7.977324</td>\n",
       "      <td>-500.255908</td>\n",
       "      <td>14.005551</td>\n",
       "      <td>-599.996129</td>\n",
       "    </tr>\n",
       "    <tr>\n",
       "      <th>4</th>\n",
       "      <td>2016-01-15 04:00:00</td>\n",
       "      <td>6.148599</td>\n",
       "      <td>10.142511</td>\n",
       "      <td>4.939416</td>\n",
       "      <td>42.774141</td>\n",
       "      <td>66.927016</td>\n",
       "      <td>10.360302</td>\n",
       "      <td>0.792826</td>\n",
       "      <td>16.525686</td>\n",
       "      <td>2.055292</td>\n",
       "      <td>...</td>\n",
       "      <td>14.027298</td>\n",
       "      <td>-499.838632</td>\n",
       "      <td>11.953070</td>\n",
       "      <td>-501.053894</td>\n",
       "      <td>9.925709</td>\n",
       "      <td>-501.686727</td>\n",
       "      <td>7.894242</td>\n",
       "      <td>-500.356035</td>\n",
       "      <td>13.996647</td>\n",
       "      <td>-601.496691</td>\n",
       "    </tr>\n",
       "  </tbody>\n",
       "</table>\n",
       "<p>5 rows × 87 columns</p>\n",
       "</div>"
      ],
      "text/plain": [
       "                  date  final.output.concentrate_ag  \\\n",
       "0  2016-01-15 00:00:00                     6.055403   \n",
       "1  2016-01-15 01:00:00                     6.029369   \n",
       "2  2016-01-15 02:00:00                     6.055926   \n",
       "3  2016-01-15 03:00:00                     6.047977   \n",
       "4  2016-01-15 04:00:00                     6.148599   \n",
       "\n",
       "   final.output.concentrate_pb  final.output.concentrate_sol  \\\n",
       "0                     9.889648                      5.507324   \n",
       "1                     9.968944                      5.257781   \n",
       "2                    10.213995                      5.383759   \n",
       "3                     9.977019                      4.858634   \n",
       "4                    10.142511                      4.939416   \n",
       "\n",
       "   final.output.concentrate_au  final.output.recovery  final.output.tail_ag  \\\n",
       "0                    42.192020              70.541216             10.411962   \n",
       "1                    42.701629              69.266198             10.462676   \n",
       "2                    42.657501              68.116445             10.507046   \n",
       "3                    42.689819              68.347543             10.422762   \n",
       "4                    42.774141              66.927016             10.360302   \n",
       "\n",
       "   final.output.tail_pb  final.output.tail_sol  final.output.tail_au  ...  \\\n",
       "0              0.895447              16.904297              2.143149  ...   \n",
       "1              0.927452              16.634514              2.224930  ...   \n",
       "2              0.953716              16.208849              2.257889  ...   \n",
       "3              0.883763              16.532835              2.146849  ...   \n",
       "4              0.792826              16.525686              2.055292  ...   \n",
       "\n",
       "   secondary_cleaner.state.floatbank4_a_air  \\\n",
       "0                                 14.016835   \n",
       "1                                 13.992281   \n",
       "2                                 14.015015   \n",
       "3                                 14.036510   \n",
       "4                                 14.027298   \n",
       "\n",
       "   secondary_cleaner.state.floatbank4_a_level  \\\n",
       "0                                 -502.488007   \n",
       "1                                 -505.503262   \n",
       "2                                 -502.520901   \n",
       "3                                 -500.857308   \n",
       "4                                 -499.838632   \n",
       "\n",
       "   secondary_cleaner.state.floatbank4_b_air  \\\n",
       "0                                 12.099931   \n",
       "1                                 11.950531   \n",
       "2                                 11.912783   \n",
       "3                                 11.999550   \n",
       "4                                 11.953070   \n",
       "\n",
       "   secondary_cleaner.state.floatbank4_b_level  \\\n",
       "0                                 -504.715942   \n",
       "1                                 -501.331529   \n",
       "2                                 -501.133383   \n",
       "3                                 -501.193686   \n",
       "4                                 -501.053894   \n",
       "\n",
       "   secondary_cleaner.state.floatbank5_a_air  \\\n",
       "0                                  9.925633   \n",
       "1                                 10.039245   \n",
       "2                                 10.070913   \n",
       "3                                  9.970366   \n",
       "4                                  9.925709   \n",
       "\n",
       "   secondary_cleaner.state.floatbank5_a_level  \\\n",
       "0                                 -498.310211   \n",
       "1                                 -500.169983   \n",
       "2                                 -500.129135   \n",
       "3                                 -499.201640   \n",
       "4                                 -501.686727   \n",
       "\n",
       "   secondary_cleaner.state.floatbank5_b_air  \\\n",
       "0                                  8.079666   \n",
       "1                                  7.984757   \n",
       "2                                  8.013877   \n",
       "3                                  7.977324   \n",
       "4                                  7.894242   \n",
       "\n",
       "   secondary_cleaner.state.floatbank5_b_level  \\\n",
       "0                                 -500.470978   \n",
       "1                                 -500.582168   \n",
       "2                                 -500.517572   \n",
       "3                                 -500.255908   \n",
       "4                                 -500.356035   \n",
       "\n",
       "   secondary_cleaner.state.floatbank6_a_air  \\\n",
       "0                                 14.151341   \n",
       "1                                 13.998353   \n",
       "2                                 14.028663   \n",
       "3                                 14.005551   \n",
       "4                                 13.996647   \n",
       "\n",
       "   secondary_cleaner.state.floatbank6_a_level  \n",
       "0                                 -605.841980  \n",
       "1                                 -599.787184  \n",
       "2                                 -601.427363  \n",
       "3                                 -599.996129  \n",
       "4                                 -601.496691  \n",
       "\n",
       "[5 rows x 87 columns]"
      ]
     },
     "execution_count": 4,
     "metadata": {},
     "output_type": "execute_result"
    }
   ],
   "source": [
    "data_train.head()"
   ]
  },
  {
   "cell_type": "markdown",
   "metadata": {},
   "source": [
    "Тестовая выборка:"
   ]
  },
  {
   "cell_type": "code",
   "execution_count": 5,
   "metadata": {
    "scrolled": true
   },
   "outputs": [
    {
     "name": "stdout",
     "output_type": "stream",
     "text": [
      "<class 'pandas.core.frame.DataFrame'>\n",
      "RangeIndex: 5290 entries, 0 to 5289\n",
      "Data columns (total 53 columns):\n",
      " #   Column                                      Non-Null Count  Dtype  \n",
      "---  ------                                      --------------  -----  \n",
      " 0   date                                        5290 non-null   object \n",
      " 1   primary_cleaner.input.sulfate               5286 non-null   float64\n",
      " 2   primary_cleaner.input.depressant            5285 non-null   float64\n",
      " 3   primary_cleaner.input.feed_size             5290 non-null   float64\n",
      " 4   primary_cleaner.input.xanthate              5286 non-null   float64\n",
      " 5   primary_cleaner.state.floatbank8_a_air      5290 non-null   float64\n",
      " 6   primary_cleaner.state.floatbank8_a_level    5290 non-null   float64\n",
      " 7   primary_cleaner.state.floatbank8_b_air      5290 non-null   float64\n",
      " 8   primary_cleaner.state.floatbank8_b_level    5290 non-null   float64\n",
      " 9   primary_cleaner.state.floatbank8_c_air      5290 non-null   float64\n",
      " 10  primary_cleaner.state.floatbank8_c_level    5290 non-null   float64\n",
      " 11  primary_cleaner.state.floatbank8_d_air      5290 non-null   float64\n",
      " 12  primary_cleaner.state.floatbank8_d_level    5290 non-null   float64\n",
      " 13  rougher.input.feed_ag                       5290 non-null   float64\n",
      " 14  rougher.input.feed_pb                       5290 non-null   float64\n",
      " 15  rougher.input.feed_rate                     5287 non-null   float64\n",
      " 16  rougher.input.feed_size                     5289 non-null   float64\n",
      " 17  rougher.input.feed_sol                      5269 non-null   float64\n",
      " 18  rougher.input.feed_au                       5290 non-null   float64\n",
      " 19  rougher.input.floatbank10_sulfate           5285 non-null   float64\n",
      " 20  rougher.input.floatbank10_xanthate          5290 non-null   float64\n",
      " 21  rougher.input.floatbank11_sulfate           5282 non-null   float64\n",
      " 22  rougher.input.floatbank11_xanthate          5265 non-null   float64\n",
      " 23  rougher.state.floatbank10_a_air             5290 non-null   float64\n",
      " 24  rougher.state.floatbank10_a_level           5290 non-null   float64\n",
      " 25  rougher.state.floatbank10_b_air             5290 non-null   float64\n",
      " 26  rougher.state.floatbank10_b_level           5290 non-null   float64\n",
      " 27  rougher.state.floatbank10_c_air             5290 non-null   float64\n",
      " 28  rougher.state.floatbank10_c_level           5290 non-null   float64\n",
      " 29  rougher.state.floatbank10_d_air             5290 non-null   float64\n",
      " 30  rougher.state.floatbank10_d_level           5290 non-null   float64\n",
      " 31  rougher.state.floatbank10_e_air             5290 non-null   float64\n",
      " 32  rougher.state.floatbank10_e_level           5290 non-null   float64\n",
      " 33  rougher.state.floatbank10_f_air             5290 non-null   float64\n",
      " 34  rougher.state.floatbank10_f_level           5290 non-null   float64\n",
      " 35  secondary_cleaner.state.floatbank2_a_air    5287 non-null   float64\n",
      " 36  secondary_cleaner.state.floatbank2_a_level  5290 non-null   float64\n",
      " 37  secondary_cleaner.state.floatbank2_b_air    5288 non-null   float64\n",
      " 38  secondary_cleaner.state.floatbank2_b_level  5290 non-null   float64\n",
      " 39  secondary_cleaner.state.floatbank3_a_air    5281 non-null   float64\n",
      " 40  secondary_cleaner.state.floatbank3_a_level  5290 non-null   float64\n",
      " 41  secondary_cleaner.state.floatbank3_b_air    5290 non-null   float64\n",
      " 42  secondary_cleaner.state.floatbank3_b_level  5290 non-null   float64\n",
      " 43  secondary_cleaner.state.floatbank4_a_air    5290 non-null   float64\n",
      " 44  secondary_cleaner.state.floatbank4_a_level  5290 non-null   float64\n",
      " 45  secondary_cleaner.state.floatbank4_b_air    5290 non-null   float64\n",
      " 46  secondary_cleaner.state.floatbank4_b_level  5290 non-null   float64\n",
      " 47  secondary_cleaner.state.floatbank5_a_air    5290 non-null   float64\n",
      " 48  secondary_cleaner.state.floatbank5_a_level  5290 non-null   float64\n",
      " 49  secondary_cleaner.state.floatbank5_b_air    5290 non-null   float64\n",
      " 50  secondary_cleaner.state.floatbank5_b_level  5290 non-null   float64\n",
      " 51  secondary_cleaner.state.floatbank6_a_air    5290 non-null   float64\n",
      " 52  secondary_cleaner.state.floatbank6_a_level  5290 non-null   float64\n",
      "dtypes: float64(52), object(1)\n",
      "memory usage: 2.1+ MB\n"
     ]
    }
   ],
   "source": [
    "data_test.info()"
   ]
  },
  {
   "cell_type": "code",
   "execution_count": 6,
   "metadata": {},
   "outputs": [
    {
     "data": {
      "text/html": [
       "<div>\n",
       "<style scoped>\n",
       "    .dataframe tbody tr th:only-of-type {\n",
       "        vertical-align: middle;\n",
       "    }\n",
       "\n",
       "    .dataframe tbody tr th {\n",
       "        vertical-align: top;\n",
       "    }\n",
       "\n",
       "    .dataframe thead th {\n",
       "        text-align: right;\n",
       "    }\n",
       "</style>\n",
       "<table border=\"1\" class=\"dataframe\">\n",
       "  <thead>\n",
       "    <tr style=\"text-align: right;\">\n",
       "      <th></th>\n",
       "      <th>date</th>\n",
       "      <th>primary_cleaner.input.sulfate</th>\n",
       "      <th>primary_cleaner.input.depressant</th>\n",
       "      <th>primary_cleaner.input.feed_size</th>\n",
       "      <th>primary_cleaner.input.xanthate</th>\n",
       "      <th>primary_cleaner.state.floatbank8_a_air</th>\n",
       "      <th>primary_cleaner.state.floatbank8_a_level</th>\n",
       "      <th>primary_cleaner.state.floatbank8_b_air</th>\n",
       "      <th>primary_cleaner.state.floatbank8_b_level</th>\n",
       "      <th>primary_cleaner.state.floatbank8_c_air</th>\n",
       "      <th>...</th>\n",
       "      <th>secondary_cleaner.state.floatbank4_a_air</th>\n",
       "      <th>secondary_cleaner.state.floatbank4_a_level</th>\n",
       "      <th>secondary_cleaner.state.floatbank4_b_air</th>\n",
       "      <th>secondary_cleaner.state.floatbank4_b_level</th>\n",
       "      <th>secondary_cleaner.state.floatbank5_a_air</th>\n",
       "      <th>secondary_cleaner.state.floatbank5_a_level</th>\n",
       "      <th>secondary_cleaner.state.floatbank5_b_air</th>\n",
       "      <th>secondary_cleaner.state.floatbank5_b_level</th>\n",
       "      <th>secondary_cleaner.state.floatbank6_a_air</th>\n",
       "      <th>secondary_cleaner.state.floatbank6_a_level</th>\n",
       "    </tr>\n",
       "  </thead>\n",
       "  <tbody>\n",
       "    <tr>\n",
       "      <th>0</th>\n",
       "      <td>2016-09-01 00:59:59</td>\n",
       "      <td>210.800909</td>\n",
       "      <td>14.993118</td>\n",
       "      <td>8.080000</td>\n",
       "      <td>1.005021</td>\n",
       "      <td>1398.981301</td>\n",
       "      <td>-500.225577</td>\n",
       "      <td>1399.144926</td>\n",
       "      <td>-499.919735</td>\n",
       "      <td>1400.102998</td>\n",
       "      <td>...</td>\n",
       "      <td>12.023554</td>\n",
       "      <td>-497.795834</td>\n",
       "      <td>8.016656</td>\n",
       "      <td>-501.289139</td>\n",
       "      <td>7.946562</td>\n",
       "      <td>-432.317850</td>\n",
       "      <td>4.872511</td>\n",
       "      <td>-500.037437</td>\n",
       "      <td>26.705889</td>\n",
       "      <td>-499.709414</td>\n",
       "    </tr>\n",
       "    <tr>\n",
       "      <th>1</th>\n",
       "      <td>2016-09-01 01:59:59</td>\n",
       "      <td>215.392455</td>\n",
       "      <td>14.987471</td>\n",
       "      <td>8.080000</td>\n",
       "      <td>0.990469</td>\n",
       "      <td>1398.777912</td>\n",
       "      <td>-500.057435</td>\n",
       "      <td>1398.055362</td>\n",
       "      <td>-499.778182</td>\n",
       "      <td>1396.151033</td>\n",
       "      <td>...</td>\n",
       "      <td>12.058140</td>\n",
       "      <td>-498.695773</td>\n",
       "      <td>8.130979</td>\n",
       "      <td>-499.634209</td>\n",
       "      <td>7.958270</td>\n",
       "      <td>-525.839648</td>\n",
       "      <td>4.878850</td>\n",
       "      <td>-500.162375</td>\n",
       "      <td>25.019940</td>\n",
       "      <td>-499.819438</td>\n",
       "    </tr>\n",
       "    <tr>\n",
       "      <th>2</th>\n",
       "      <td>2016-09-01 02:59:59</td>\n",
       "      <td>215.259946</td>\n",
       "      <td>12.884934</td>\n",
       "      <td>7.786667</td>\n",
       "      <td>0.996043</td>\n",
       "      <td>1398.493666</td>\n",
       "      <td>-500.868360</td>\n",
       "      <td>1398.860436</td>\n",
       "      <td>-499.764529</td>\n",
       "      <td>1398.075709</td>\n",
       "      <td>...</td>\n",
       "      <td>11.962366</td>\n",
       "      <td>-498.767484</td>\n",
       "      <td>8.096893</td>\n",
       "      <td>-500.827423</td>\n",
       "      <td>8.071056</td>\n",
       "      <td>-500.801673</td>\n",
       "      <td>4.905125</td>\n",
       "      <td>-499.828510</td>\n",
       "      <td>24.994862</td>\n",
       "      <td>-500.622559</td>\n",
       "    </tr>\n",
       "    <tr>\n",
       "      <th>3</th>\n",
       "      <td>2016-09-01 03:59:59</td>\n",
       "      <td>215.336236</td>\n",
       "      <td>12.006805</td>\n",
       "      <td>7.640000</td>\n",
       "      <td>0.863514</td>\n",
       "      <td>1399.618111</td>\n",
       "      <td>-498.863574</td>\n",
       "      <td>1397.440120</td>\n",
       "      <td>-499.211024</td>\n",
       "      <td>1400.129303</td>\n",
       "      <td>...</td>\n",
       "      <td>12.033091</td>\n",
       "      <td>-498.350935</td>\n",
       "      <td>8.074946</td>\n",
       "      <td>-499.474407</td>\n",
       "      <td>7.897085</td>\n",
       "      <td>-500.868509</td>\n",
       "      <td>4.931400</td>\n",
       "      <td>-499.963623</td>\n",
       "      <td>24.948919</td>\n",
       "      <td>-498.709987</td>\n",
       "    </tr>\n",
       "    <tr>\n",
       "      <th>4</th>\n",
       "      <td>2016-09-01 04:59:59</td>\n",
       "      <td>199.099327</td>\n",
       "      <td>10.682530</td>\n",
       "      <td>7.530000</td>\n",
       "      <td>0.805575</td>\n",
       "      <td>1401.268123</td>\n",
       "      <td>-500.808305</td>\n",
       "      <td>1398.128818</td>\n",
       "      <td>-499.504543</td>\n",
       "      <td>1402.172226</td>\n",
       "      <td>...</td>\n",
       "      <td>12.025367</td>\n",
       "      <td>-500.786497</td>\n",
       "      <td>8.054678</td>\n",
       "      <td>-500.397500</td>\n",
       "      <td>8.107890</td>\n",
       "      <td>-509.526725</td>\n",
       "      <td>4.957674</td>\n",
       "      <td>-500.360026</td>\n",
       "      <td>25.003331</td>\n",
       "      <td>-500.856333</td>\n",
       "    </tr>\n",
       "  </tbody>\n",
       "</table>\n",
       "<p>5 rows × 53 columns</p>\n",
       "</div>"
      ],
      "text/plain": [
       "                  date  primary_cleaner.input.sulfate  \\\n",
       "0  2016-09-01 00:59:59                     210.800909   \n",
       "1  2016-09-01 01:59:59                     215.392455   \n",
       "2  2016-09-01 02:59:59                     215.259946   \n",
       "3  2016-09-01 03:59:59                     215.336236   \n",
       "4  2016-09-01 04:59:59                     199.099327   \n",
       "\n",
       "   primary_cleaner.input.depressant  primary_cleaner.input.feed_size  \\\n",
       "0                         14.993118                         8.080000   \n",
       "1                         14.987471                         8.080000   \n",
       "2                         12.884934                         7.786667   \n",
       "3                         12.006805                         7.640000   \n",
       "4                         10.682530                         7.530000   \n",
       "\n",
       "   primary_cleaner.input.xanthate  primary_cleaner.state.floatbank8_a_air  \\\n",
       "0                        1.005021                             1398.981301   \n",
       "1                        0.990469                             1398.777912   \n",
       "2                        0.996043                             1398.493666   \n",
       "3                        0.863514                             1399.618111   \n",
       "4                        0.805575                             1401.268123   \n",
       "\n",
       "   primary_cleaner.state.floatbank8_a_level  \\\n",
       "0                               -500.225577   \n",
       "1                               -500.057435   \n",
       "2                               -500.868360   \n",
       "3                               -498.863574   \n",
       "4                               -500.808305   \n",
       "\n",
       "   primary_cleaner.state.floatbank8_b_air  \\\n",
       "0                             1399.144926   \n",
       "1                             1398.055362   \n",
       "2                             1398.860436   \n",
       "3                             1397.440120   \n",
       "4                             1398.128818   \n",
       "\n",
       "   primary_cleaner.state.floatbank8_b_level  \\\n",
       "0                               -499.919735   \n",
       "1                               -499.778182   \n",
       "2                               -499.764529   \n",
       "3                               -499.211024   \n",
       "4                               -499.504543   \n",
       "\n",
       "   primary_cleaner.state.floatbank8_c_air  ...  \\\n",
       "0                             1400.102998  ...   \n",
       "1                             1396.151033  ...   \n",
       "2                             1398.075709  ...   \n",
       "3                             1400.129303  ...   \n",
       "4                             1402.172226  ...   \n",
       "\n",
       "   secondary_cleaner.state.floatbank4_a_air  \\\n",
       "0                                 12.023554   \n",
       "1                                 12.058140   \n",
       "2                                 11.962366   \n",
       "3                                 12.033091   \n",
       "4                                 12.025367   \n",
       "\n",
       "   secondary_cleaner.state.floatbank4_a_level  \\\n",
       "0                                 -497.795834   \n",
       "1                                 -498.695773   \n",
       "2                                 -498.767484   \n",
       "3                                 -498.350935   \n",
       "4                                 -500.786497   \n",
       "\n",
       "   secondary_cleaner.state.floatbank4_b_air  \\\n",
       "0                                  8.016656   \n",
       "1                                  8.130979   \n",
       "2                                  8.096893   \n",
       "3                                  8.074946   \n",
       "4                                  8.054678   \n",
       "\n",
       "   secondary_cleaner.state.floatbank4_b_level  \\\n",
       "0                                 -501.289139   \n",
       "1                                 -499.634209   \n",
       "2                                 -500.827423   \n",
       "3                                 -499.474407   \n",
       "4                                 -500.397500   \n",
       "\n",
       "   secondary_cleaner.state.floatbank5_a_air  \\\n",
       "0                                  7.946562   \n",
       "1                                  7.958270   \n",
       "2                                  8.071056   \n",
       "3                                  7.897085   \n",
       "4                                  8.107890   \n",
       "\n",
       "   secondary_cleaner.state.floatbank5_a_level  \\\n",
       "0                                 -432.317850   \n",
       "1                                 -525.839648   \n",
       "2                                 -500.801673   \n",
       "3                                 -500.868509   \n",
       "4                                 -509.526725   \n",
       "\n",
       "   secondary_cleaner.state.floatbank5_b_air  \\\n",
       "0                                  4.872511   \n",
       "1                                  4.878850   \n",
       "2                                  4.905125   \n",
       "3                                  4.931400   \n",
       "4                                  4.957674   \n",
       "\n",
       "   secondary_cleaner.state.floatbank5_b_level  \\\n",
       "0                                 -500.037437   \n",
       "1                                 -500.162375   \n",
       "2                                 -499.828510   \n",
       "3                                 -499.963623   \n",
       "4                                 -500.360026   \n",
       "\n",
       "   secondary_cleaner.state.floatbank6_a_air  \\\n",
       "0                                 26.705889   \n",
       "1                                 25.019940   \n",
       "2                                 24.994862   \n",
       "3                                 24.948919   \n",
       "4                                 25.003331   \n",
       "\n",
       "   secondary_cleaner.state.floatbank6_a_level  \n",
       "0                                 -499.709414  \n",
       "1                                 -499.819438  \n",
       "2                                 -500.622559  \n",
       "3                                 -498.709987  \n",
       "4                                 -500.856333  \n",
       "\n",
       "[5 rows x 53 columns]"
      ]
     },
     "execution_count": 6,
     "metadata": {},
     "output_type": "execute_result"
    }
   ],
   "source": [
    "data_test.head()"
   ]
  },
  {
   "cell_type": "markdown",
   "metadata": {},
   "source": [
    "### Проверка корректности расчета эффективности обогащения в обучающей выборке"
   ]
  },
  {
   "cell_type": "code",
   "execution_count": 7,
   "metadata": {},
   "outputs": [],
   "source": [
    "C_train = data_train['rougher.output.concentrate_au']\n",
    "F_train = data_train['rougher.input.feed_au']\n",
    "T_train = data_train['rougher.output.tail_au']\n",
    "rougher_output_recovery = C_train * (F_train - T_train) * 100 / F_train / (C_train - T_train)"
   ]
  },
  {
   "cell_type": "code",
   "execution_count": 8,
   "metadata": {},
   "outputs": [
    {
     "data": {
      "text/plain": [
       "1.145234793201575e-14"
      ]
     },
     "execution_count": 8,
     "metadata": {},
     "output_type": "execute_result"
    }
   ],
   "source": [
    "mean_absolute_error(data_train['rougher.output.recovery'], rougher_output_recovery)"
   ]
  },
  {
   "cell_type": "markdown",
   "metadata": {},
   "source": [
    "MAE очень низок, данные совпадают."
   ]
  },
  {
   "cell_type": "markdown",
   "metadata": {},
   "source": [
    "### Признаки которых нет в тестовой выборке"
   ]
  },
  {
   "cell_type": "code",
   "execution_count": 9,
   "metadata": {},
   "outputs": [
    {
     "data": {
      "text/plain": [
       "{'final.output.concentrate_ag',\n",
       " 'final.output.concentrate_au',\n",
       " 'final.output.concentrate_pb',\n",
       " 'final.output.concentrate_sol',\n",
       " 'final.output.recovery',\n",
       " 'final.output.tail_ag',\n",
       " 'final.output.tail_au',\n",
       " 'final.output.tail_pb',\n",
       " 'final.output.tail_sol',\n",
       " 'primary_cleaner.output.concentrate_ag',\n",
       " 'primary_cleaner.output.concentrate_au',\n",
       " 'primary_cleaner.output.concentrate_pb',\n",
       " 'primary_cleaner.output.concentrate_sol',\n",
       " 'primary_cleaner.output.tail_ag',\n",
       " 'primary_cleaner.output.tail_au',\n",
       " 'primary_cleaner.output.tail_pb',\n",
       " 'primary_cleaner.output.tail_sol',\n",
       " 'rougher.calculation.au_pb_ratio',\n",
       " 'rougher.calculation.floatbank10_sulfate_to_au_feed',\n",
       " 'rougher.calculation.floatbank11_sulfate_to_au_feed',\n",
       " 'rougher.calculation.sulfate_to_au_concentrate',\n",
       " 'rougher.output.concentrate_ag',\n",
       " 'rougher.output.concentrate_au',\n",
       " 'rougher.output.concentrate_pb',\n",
       " 'rougher.output.concentrate_sol',\n",
       " 'rougher.output.recovery',\n",
       " 'rougher.output.tail_ag',\n",
       " 'rougher.output.tail_au',\n",
       " 'rougher.output.tail_pb',\n",
       " 'rougher.output.tail_sol',\n",
       " 'secondary_cleaner.output.tail_ag',\n",
       " 'secondary_cleaner.output.tail_au',\n",
       " 'secondary_cleaner.output.tail_pb',\n",
       " 'secondary_cleaner.output.tail_sol'}"
      ]
     },
     "execution_count": 9,
     "metadata": {},
     "output_type": "execute_result"
    }
   ],
   "source": [
    "set(data_train) - set(data_test)"
   ]
  },
  {
   "cell_type": "markdown",
   "metadata": {},
   "source": [
    "### Вывод из обзора данных"
   ]
  },
  {
   "cell_type": "markdown",
   "metadata": {},
   "source": [
    "- В данных присутствуют пропуски, которые можно заполнить, сгруппировав датасет по дате (т.к. данные со одинаковыми данными схожи) и посчитав медианное значение в нужном столбце, или же удалить все обьекты с ними.\n",
    "- После восстановления пропусков следует удалить столбец с датой обьектов, т.к. он будет препятствовать дальнейшему построению модели.\n",
    "- Расчет эффективности обогащения корректен, т.к. MAE очень низок.\n",
    "- В тестовой выборке отсутствуют признаки которые отвечают за параметры, получаемые на выходе (<code>output</code>) и расчетные (<code>calculation</code>) различных этапов, т.к. их не возможно получить или замерить во время выполнения технологическкого процесса.\n",
    "- Следует удалить отсутствующие в тестовой выборке признаки из обучающей выборки, чтобы модель корректно работала.\n",
    "- У признаков разные масштабы, надо будет стандартизовать данные."
   ]
  },
  {
   "cell_type": "markdown",
   "metadata": {},
   "source": [
    "### Предобработка данных"
   ]
  },
  {
   "cell_type": "markdown",
   "metadata": {},
   "source": [
    "Изменим тип данных столбца 'date' на datetime для упрощенной работы с датами:"
   ]
  },
  {
   "cell_type": "code",
   "execution_count": 10,
   "metadata": {},
   "outputs": [],
   "source": [
    "for df in [data, data_train, data_test]:\n",
    "    df['date'] = pd.to_datetime(df['date'], format='%Y-%m-%dT%H:%M:%S')"
   ]
  },
  {
   "cell_type": "markdown",
   "metadata": {},
   "source": [
    "Проверим можно ли использовать <code>ffill</code> или <code>bfill</code> методы для заполнения пропусков, посчитаем кол-во подряд идущих пропусков:"
   ]
  },
  {
   "cell_type": "code",
   "execution_count": 11,
   "metadata": {},
   "outputs": [
    {
     "data": {
      "text/plain": [
       "682"
      ]
     },
     "execution_count": 11,
     "metadata": {},
     "output_type": "execute_result"
    }
   ],
   "source": [
    "all_NaNs = 0 #кол-во идущих подряд пропусков (не кол-во пропусков, а \"строк\" подряд идущих признаков)\n",
    "for col in data.columns:\n",
    "    if col == 'date':\n",
    "        continue\n",
    "    NaNs = 0 #текущие кол-во идущих подряд сзади признаков\n",
    "    for idx in range(len(data)):\n",
    "        if not isnan(data.loc[idx, col]) and NaNs > 1:\n",
    "            all_NaNs += 1\n",
    "            NaNs = 0\n",
    "        elif isnan(data.loc[idx, col]):\n",
    "            NaNs += 1\n",
    "    if NaNs > 1: \n",
    "        all_NaNs += 1\n",
    "all_NaNs"
   ]
  },
  {
   "cell_type": "markdown",
   "metadata": {},
   "source": [
    "Такие методы не подойдут т.к. есть множество подряд идущих пропусков, это может помешать в обучении моделей, воспользуемся другим методом:"
   ]
  },
  {
   "cell_type": "code",
   "execution_count": 12,
   "metadata": {},
   "outputs": [],
   "source": [
    "def mean_pass_method(col, idx_0, idx_1, fake_idx={}):\n",
    "    mean = (fake_idx.get(idx_0, data.loc[idx_0, col]) + fake_idx.get(idx_1, data.loc[idx_1, col]))/2\n",
    "    if idx_1 - idx_0 - 1 == 1:\n",
    "        data.loc[idx_0+1, col] = mean\n",
    "    elif (idx_1 - idx_0) % 2 == 0:\n",
    "        data.loc[(idx_1+idx_0)/2, col] = mean\n",
    "        mean_pass_method(col, idx_0, (idx_1+idx_0)/2, fake_idx)\n",
    "        mean_pass_method(col, (idx_1+idx_0)/2, idx_1, fake_idx)\n",
    "    else:\n",
    "        mean_pass_method(col, idx_0, (idx_1+idx_0)/2 + 0.5, dict(list(fake_idx.items()) + [((idx_1+idx_0)/2 + 0.5, mean)]))\n",
    "        mean_pass_method(col, (idx_1+idx_0)/2 - 0.5, idx_1, dict(list(fake_idx.items()) + [((idx_1+idx_0)/2 - 0.5, mean)]))"
   ]
  },
  {
   "cell_type": "markdown",
   "metadata": {},
   "source": [
    "- Примеры работы функции: \n",
    "    - <code>[1, nan, 5]</code> --> <code>[1, 3, 5]</code>\n",
    "    - <code>[1, nan, nan, nan, nan, 6]</code> --> <code>[1, **1.625**, **2.875**, **4.125**, **5.375**, 6]</code>\n",
    "    - <code>[1, nan, nan, nan, nan, nan, 7]</code> --> <code>[1, **1.75**, **3.25**, **4**, **4.75**, **6.25**, 7]</code>\n",
    "    - <code>[1, nan, nan, nan, nan, nan, nan, 8]</code> --> <code>[1, **1.875**, **2.75**, **3.625**, **5.375**, **6.25**, **7.125**, 8]</code>\n",
    "- Пример схожий с пропусками в признаках:\n",
    "    - <code>[1.1334, nan, nan, nan, nan, nan, nan, 1.1732]</code>--><code>[1.1334, **1.138375**, **1.143350**, **1.148325**, **1.158275**, **1.163250**, **1.168225**, 1.1732]"
   ]
  },
  {
   "cell_type": "code",
   "execution_count": 13,
   "metadata": {},
   "outputs": [],
   "source": [
    "for col in data.columns:\n",
    "    if col == 'date':\n",
    "        continue\n",
    "    NaNs = 0 \n",
    "    for idx in range(len(data)):\n",
    "        if isnan(data.loc[idx, col]) and NaNs == 0:\n",
    "            idx_0 = idx-1\n",
    "            NaNs = 1\n",
    "        elif isnan(data.loc[idx, col]):\n",
    "            NaNs += 1\n",
    "        elif not isnan(data.loc[idx, col]) and NaNs > 0:\n",
    "            mean_pass_method(col, idx_0, idx)\n",
    "            NaNs = 0"
   ]
  },
  {
   "cell_type": "markdown",
   "metadata": {},
   "source": [
    "Заполнение пропусков в тестовой и обучающих выборках восстановленными значениями исходной выборки, используя дату как идентификатор (т.к. дата у каждого обьекта уникальна):"
   ]
  },
  {
   "cell_type": "code",
   "execution_count": 14,
   "metadata": {},
   "outputs": [
    {
     "name": "stdout",
     "output_type": "stream",
     "text": [
      "True\n",
      "True\n",
      "True\n"
     ]
    }
   ],
   "source": [
    "for df in [data_train, data_test, data]:\n",
    "    print(len(df) == len(df['date'].unique()))"
   ]
  },
  {
   "cell_type": "code",
   "execution_count": 15,
   "metadata": {},
   "outputs": [],
   "source": [
    "for df in [data_train, data_test]:\n",
    "    for idx in range(len(df)):\n",
    "        for feature in set(df) - {'date'}:\n",
    "            if isnan(df.loc[idx, feature]):\n",
    "                df.loc[idx, feature] = data.loc[data['date'] == df.loc[idx, 'date'], feature].iloc[0]"
   ]
  },
  {
   "cell_type": "code",
   "execution_count": 16,
   "metadata": {},
   "outputs": [
    {
     "name": "stdout",
     "output_type": "stream",
     "text": [
      "0\n",
      "0\n",
      "0\n"
     ]
    }
   ],
   "source": [
    "for df in [data, data_train, data_test]:\n",
    "    print(df.isna().sum().sum())"
   ]
  },
  {
   "cell_type": "markdown",
   "metadata": {},
   "source": [
    "Удаление отсутствующих в тестовой выборке признаков из обучающей выборки, удаление столбца 'date', разбивка данных из обучающей и тестовой выборок на целевые и обычные признаки."
   ]
  },
  {
   "cell_type": "code",
   "execution_count": 17,
   "metadata": {},
   "outputs": [],
   "source": [
    "features_train, target_train = data_train.set_index('date').drop(set(data_train) - set(data_test), axis=1), \\\n",
    "    data_train.set_index('date')[['rougher.output.recovery', 'final.output.recovery']]\n",
    "features_test = data_test.set_index('date')\n",
    "target_test = data.loc[data['date'].isin(data_test['date']), ['date', 'rougher.output.recovery', 'final.output.recovery']].set_index('date')"
   ]
  },
  {
   "cell_type": "markdown",
   "metadata": {},
   "source": [
    "Масштабирование данных:"
   ]
  },
  {
   "cell_type": "code",
   "execution_count": 18,
   "metadata": {},
   "outputs": [],
   "source": [
    "scaler = StandardScaler()\n",
    "features_train_scaled = pd.DataFrame(scaler.fit_transform(features_train), columns=features_train.columns, \\\n",
    "    index=features_train.index)\n",
    "features_test_scaled = pd.DataFrame(scaler.transform(features_test), columns=features_test.columns, \\\n",
    "    index=features_test.index)"
   ]
  },
  {
   "cell_type": "markdown",
   "metadata": {},
   "source": [
    "Т.к для предсказания целевых признаков доступны разные признаки, необходимо разбить features_train и features_test на выборки для <code>final</code> и <code>rougher</code> этапов."
   ]
  },
  {
   "cell_type": "code",
   "execution_count": 19,
   "metadata": {},
   "outputs": [],
   "source": [
    "rougher_columns = list(df.columns[['rougher' in column for column in data_test.columns]])"
   ]
  },
  {
   "cell_type": "code",
   "execution_count": 20,
   "metadata": {},
   "outputs": [],
   "source": [
    "features_train_rougher = features_train_scaled[rougher_columns]\n",
    "target_train_rougher = target_train['rougher.output.recovery']\n",
    "\n",
    "features_train_final = features_train_scaled\n",
    "target_train_final = target_train['final.output.recovery']\n",
    "\n",
    "\n",
    "\n",
    "features_test_rougher = features_test_scaled[rougher_columns]\n",
    "target_test_rougher = target_test['rougher.output.recovery']\n",
    "\n",
    "features_test_final = features_test_scaled\n",
    "target_test_final = target_test['final.output.recovery']"
   ]
  },
  {
   "cell_type": "markdown",
   "metadata": {},
   "source": [
    "## Анализ данных"
   ]
  },
  {
   "cell_type": "markdown",
   "metadata": {},
   "source": [
    "###  Концентрация металлов (Au, Ag, Pb) на различных этапах очистки"
   ]
  },
  {
   "cell_type": "code",
   "execution_count": 21,
   "metadata": {},
   "outputs": [],
   "source": [
    "columns = ['Au (золото)', 'Ag (серебро)', 'Pb (свинец)']\n",
    "STAGES = ['Изначальная', 'После флотации', 'После первого этапа очистки', 'После второго этапа очистки']\n",
    "concentrations = array([[\n",
    "    data[f'rougher.input.feed_{metal}'].mean(),\n",
    "    data[f'rougher.output.concentrate_{metal}'].mean(),\n",
    "    data[f'primary_cleaner.output.concentrate_{metal}'].mean(),\n",
    "    data[f'final.output.concentrate_{metal}'].mean() \\\n",
    "    ] for metal in ['au', 'ag', 'pb']\n",
    "]).T"
   ]
  },
  {
   "cell_type": "code",
   "execution_count": 22,
   "metadata": {},
   "outputs": [
    {
     "data": {
      "text/html": [
       "<div>\n",
       "<style scoped>\n",
       "    .dataframe tbody tr th:only-of-type {\n",
       "        vertical-align: middle;\n",
       "    }\n",
       "\n",
       "    .dataframe tbody tr th {\n",
       "        vertical-align: top;\n",
       "    }\n",
       "\n",
       "    .dataframe thead th {\n",
       "        text-align: right;\n",
       "    }\n",
       "</style>\n",
       "<table border=\"1\" class=\"dataframe\">\n",
       "  <thead>\n",
       "    <tr style=\"text-align: right;\">\n",
       "      <th></th>\n",
       "      <th></th>\n",
       "      <th>Au (золото)</th>\n",
       "      <th>Ag (серебро)</th>\n",
       "      <th>Pb (свинец)</th>\n",
       "    </tr>\n",
       "  </thead>\n",
       "  <tbody>\n",
       "    <tr>\n",
       "      <th rowspan=\"4\" valign=\"top\">Концентрация</th>\n",
       "      <th>Изначальная</th>\n",
       "      <td>8.3</td>\n",
       "      <td>8.8</td>\n",
       "      <td>3.6</td>\n",
       "    </tr>\n",
       "    <tr>\n",
       "      <th>После флотации</th>\n",
       "      <td>19.8</td>\n",
       "      <td>12.0</td>\n",
       "      <td>7.6</td>\n",
       "    </tr>\n",
       "    <tr>\n",
       "      <th>После первого этапа очистки</th>\n",
       "      <td>32.1</td>\n",
       "      <td>8.4</td>\n",
       "      <td>9.8</td>\n",
       "    </tr>\n",
       "    <tr>\n",
       "      <th>После второго этапа очистки</th>\n",
       "      <td>44.1</td>\n",
       "      <td>5.2</td>\n",
       "      <td>10.0</td>\n",
       "    </tr>\n",
       "  </tbody>\n",
       "</table>\n",
       "</div>"
      ],
      "text/plain": [
       "                                          Au (золото)  Ag (серебро)  \\\n",
       "Концентрация Изначальная                          8.3           8.8   \n",
       "             После флотации                      19.8          12.0   \n",
       "             После первого этапа очистки         32.1           8.4   \n",
       "             После второго этапа очистки         44.1           5.2   \n",
       "\n",
       "                                          Pb (свинец)  \n",
       "Концентрация Изначальная                          3.6  \n",
       "             После флотации                       7.6  \n",
       "             После первого этапа очистки          9.8  \n",
       "             После второго этапа очистки         10.0  "
      ]
     },
     "metadata": {},
     "output_type": "display_data"
    },
    {
     "name": "stderr",
     "output_type": "stream",
     "text": [
      "/tmp/ipykernel_30/1782857593.py:31: MatplotlibDeprecationWarning: Passing the minor parameter of set_ticks() positionally is deprecated since Matplotlib 3.2; the parameter will become keyword-only two minor releases later.\n",
      "  ax.set_xticks(X + WIDTH, STAGES)\n"
     ]
    },
    {
     "data": {
      "image/png": "[encoded data removed]",
      "text/plain": [
       "<Figure size 1080x360 with 1 Axes>"
      ]
     },
     "metadata": {
      "needs_background": "light"
     },
     "output_type": "display_data"
    }
   ],
   "source": [
    "display(\n",
    "    pd.DataFrame(\n",
    "        concentrations.round(1),\n",
    "        pd.MultiIndex.from_product([\n",
    "            ['Концентрация'], \n",
    "            STAGES\n",
    "        ]),\n",
    "        columns\n",
    "    )\n",
    ")\n",
    "colors = ['gold', 'silver', 'grey']\n",
    "X = arange(len(STAGES))\n",
    "WIDTH = 0.25\n",
    "\n",
    "_, ax = plt.subplots(figsize=(15, 5))\n",
    "\n",
    "for multiplier_and_idx in range(len(columns)):\n",
    "    offset = multiplier_and_idx * WIDTH\n",
    "    rectangles = ax.bar(\n",
    "        X + offset,\n",
    "        concentrations[:, multiplier_and_idx].round(),\n",
    "        WIDTH,\n",
    "        label=columns[multiplier_and_idx],\n",
    "        color=colors[multiplier_and_idx]\n",
    "    )\n",
    "    \n",
    "\n",
    "ax.set_ylabel('Концентрация (%)')\n",
    "ax.set_xlabel('Состояние руды')\n",
    "ax.set_title('Концентрация металлов в руде на различных этапах очистки')\n",
    "ax.set_xticks(X + WIDTH, STAGES)\n",
    "ax.legend(loc='upper right')\n",
    "ax.set_ylim(0, 100)\n",
    "ax.grid()\n",
    "plt.show()"
   ]
  },
  {
   "cell_type": "markdown",
   "metadata": {},
   "source": [
    "Концентрация золота стабильно увеличивается на 12 процентов, концентрации остальных металлов держатся на промежутке от 5 до 15 процентов на всех этапах обработки."
   ]
  },
  {
   "cell_type": "markdown",
   "metadata": {},
   "source": [
    "###  Распределения размеров гранул сырья на обучающей и тестовой выборках"
   ]
  },
  {
   "cell_type": "markdown",
   "metadata": {},
   "source": [
    "Проверим, что распределения размеров гранул сырья на обучающей и тестовой выборках совпадают, с помощью U-критерия Манна — Уитни:"
   ]
  },
  {
   "cell_type": "markdown",
   "metadata": {},
   "source": [
    "Нулевая гипотеза, H0:\n",
    "- Распределение размеров гранул сырья на обучающей выборке совпадает с распределением размеров гранул сырья на тестовой выборке\n"
   ]
  },
  {
   "cell_type": "markdown",
   "metadata": {},
   "source": [
    "Альтернативная гипотеза, H1:\n",
    "* Распределение размеров гранул сырья на обучающей выборке не совпадает с распределением размеров гранул сырья на тестовой выборке"
   ]
  },
  {
   "cell_type": "code",
   "execution_count": 76,
   "metadata": {},
   "outputs": [
    {
     "name": "stdout",
     "output_type": "stream",
     "text": [
      "Отвергаем H0\n"
     ]
    }
   ],
   "source": [
    "_, p_value = mannwhitneyu(data_train['rougher.input.feed_size'], data_test['rougher.input.feed_size'])\n",
    "ALPHA = .01\n",
    "if p_value < ALPHA: \n",
    "    print('Отвергаем H0')\n",
    "else:\n",
    "    print('Не получилось отвергнуть H0')"
   ]
  },
  {
   "cell_type": "markdown",
   "metadata": {},
   "source": [
    "Распределения не совпадают, рассмотрим насколько это критично, с помощью гистограмм плотности для размеров гранул сырья на тестовой и обучающей выборках."
   ]
  },
  {
   "cell_type": "code",
   "execution_count": 77,
   "metadata": {},
   "outputs": [
    {
     "data": {
      "image/png": "[encoded data removed]",
      "text/plain": [
       "<Figure size 720x720 with 1 Axes>"
      ]
     },
     "metadata": {
      "needs_background": "light"
     },
     "output_type": "display_data"
    }
   ],
   "source": [
    "_, ax = plt.subplots(figsize=(10, 10))\n",
    "histplot(\n",
    "    data=[\n",
    "        data_train['rougher.input.feed_size'].rename(\"Размер гранул сырья на обучающей выборке\"),\n",
    "        data_test['rougher.input.feed_size'].rename(\"Размер гранул сырья на тестовой выборке\")\n",
    "    ],\n",
    "    ax=ax,\n",
    "    bins=100,\n",
    "    stat=\"density\",\n",
    "    alpha=0.3,\n",
    "    kde=True,\n",
    "    common_norm=False\n",
    ")\n",
    "ax.set_xlim(0, 200)\n",
    "ax.set_ylabel('Плотность')\n",
    "ax.set_title('Гистограммы плотности размера гранул сырья на различных выборках')\n",
    "ax.set_xlabel('Размер гранул сырья')\n",
    "plt.show()"
   ]
  },
  {
   "cell_type": "markdown",
   "metadata": {},
   "source": [
    "Расхождение не должно привести к существенной деградации модели из-за смещения данных, можем продолжить работу над проектом."
   ]
  },
  {
   "cell_type": "markdown",
   "metadata": {},
   "source": [
    "### Cуммарная концентрация всех веществ на разных стадиях очистки"
   ]
  },
  {
   "cell_type": "code",
   "execution_count": 78,
   "metadata": {},
   "outputs": [],
   "source": [
    "cols = ['rougher.input.feed_sum', 'rougher.output.concentrate_sum', 'primary_cleaner.output.concentrate_sum', \\\n",
    "        'final.output.concentrate_sum']\n",
    "for col in cols:\n",
    "    data[col] = data[[col[:-3]+substance for substance in ['au', 'ag', 'pb']]].sum(axis=1)\n",
    "colors = ['#88aa22', '#e58e1d', '#2b5daa', '#cf2236']"
   ]
  },
  {
   "cell_type": "code",
   "execution_count": 79,
   "metadata": {},
   "outputs": [
    {
     "data": {
      "image/png": "[encoded data removed]",
      "text/plain": [
       "<Figure size 1080x1080 with 4 Axes>"
      ]
     },
     "metadata": {
      "needs_background": "light"
     },
     "output_type": "display_data"
    }
   ],
   "source": [
    "fig, _ = plt.subplots(nrows=2, ncols=2, figsize=(15, 15))\n",
    "for idx in range(len(cols)):\n",
    "    histplot(\n",
    "        data=data[cols[idx]],\n",
    "        ax = fig.axes[idx],\n",
    "        bins=70,\n",
    "        stat=\"density\",\n",
    "        alpha=0.7,\n",
    "        kde=True,\n",
    "        color = colors[idx]\n",
    "    )\n",
    "    name = STAGES[idx][:-2].lower() +'ой' if idx==0 else STAGES[idx].lower()\n",
    "    fig.axes[idx].set_title('Распределение суммарной концентрации руды ' + name, fontsize=10)\n",
    "    fig.axes[idx].set_xlabel('Суммарная концентрация веществ(%)')\n",
    "    fig.axes[idx].set_ylabel('Плотность')"
   ]
  },
  {
   "cell_type": "markdown",
   "metadata": {},
   "source": [
    "Можно замететить аномальный пик значений около 0 на всех этапах обработки в разной степени, cледует удалить из обучающей выборки все обьекты, в которых суммарная концентрация на любых этапах обработки меньше 1%."
   ]
  },
  {
   "cell_type": "code",
   "execution_count": 80,
   "metadata": {},
   "outputs": [],
   "source": [
    "bad_dates = data.loc[sum(data[col] < 1 for col in cols).astype(bool), 'date']"
   ]
  },
  {
   "cell_type": "code",
   "execution_count": 81,
   "metadata": {},
   "outputs": [],
   "source": [
    "exclude_bad_dates = lambda df: df[~df.index.isin(bad_dates)]"
   ]
  },
  {
   "cell_type": "code",
   "execution_count": 82,
   "metadata": {},
   "outputs": [],
   "source": [
    "features_train_rougher = exclude_bad_dates(features_train_rougher)\n",
    "features_train_final = exclude_bad_dates(features_train_final)\n",
    "target_train_rougher = exclude_bad_dates(target_train_rougher)\n",
    "target_train_final = exclude_bad_dates(target_train_final)"
   ]
  },
  {
   "cell_type": "markdown",
   "metadata": {},
   "source": [
    "## Модель"
   ]
  },
  {
   "cell_type": "markdown",
   "metadata": {},
   "source": [
    "### Функция метрики качества"
   ]
  },
  {
   "cell_type": "markdown",
   "metadata": {},
   "source": [
    "Т.к. sMAPE нет в библиотеке <code>sklearn.metrics</code>, прийдется создать функцию вручную."
   ]
  },
  {
   "cell_type": "code",
   "execution_count": 83,
   "metadata": {},
   "outputs": [],
   "source": [
    "def sMAPE(true, predicted):\n",
    "        return sum(abs(true.iloc[idx]-predicted[idx])/(abs(true.iloc[idx])+abs(predicted[idx])) for idx in range(len(true)))*200/len(true)"
   ]
  },
  {
   "cell_type": "code",
   "execution_count": 84,
   "metadata": {},
   "outputs": [],
   "source": [
    "def sMAPE_final(sMAPE_rougher, sMAPE_final):\n",
    "    return 0.25 * sMAPE_rougher + 0.75 * sMAPE_final"
   ]
  },
  {
   "cell_type": "code",
   "execution_count": 85,
   "metadata": {},
   "outputs": [],
   "source": [
    "symmetric_mean_absolute_percentage_error = make_scorer(sMAPE, greater_is_better=False)"
   ]
  },
  {
   "cell_type": "markdown",
   "metadata": {},
   "source": [
    "### Поиск лучшей модели"
   ]
  },
  {
   "cell_type": "markdown",
   "metadata": {},
   "source": [
    "Воспользуемся моделью <code>RidgeCV</code> из библиотеки <code>sklearn.linear_model</code>, которая применяет кросс-валидацию для подбора лучших значений гиперпараметра <code>alpha</code>, в качестве обьекта оценки используется модель - 'Гребневая регрессия':"
   ]
  },
  {
   "cell_type": "code",
   "execution_count": 86,
   "metadata": {},
   "outputs": [],
   "source": [
    "RANDOM_STATE = 41626"
   ]
  },
  {
   "cell_type": "markdown",
   "metadata": {},
   "source": [
    "Для <code>final</code>:"
   ]
  },
  {
   "cell_type": "code",
   "execution_count": 87,
   "metadata": {},
   "outputs": [],
   "source": [
    "r_cv_final = RidgeCV(scoring=symmetric_mean_absolute_percentage_error, cv=5)"
   ]
  },
  {
   "cell_type": "code",
   "execution_count": 88,
   "metadata": {},
   "outputs": [
    {
     "data": {
      "text/plain": [
       "RidgeCV(alphas=array([ 0.1,  1. , 10. ]), cv=5,\n",
       "        scoring=make_scorer(sMAPE, greater_is_better=False))"
      ]
     },
     "execution_count": 88,
     "metadata": {},
     "output_type": "execute_result"
    }
   ],
   "source": [
    "r_cv_final.fit(features_train_final, target_train_final)"
   ]
  },
  {
   "cell_type": "code",
   "execution_count": 89,
   "metadata": {},
   "outputs": [
    {
     "data": {
      "text/plain": [
       "10.884349159099234"
      ]
     },
     "execution_count": 89,
     "metadata": {},
     "output_type": "execute_result"
    }
   ],
   "source": [
    "-r_cv_final.best_score_"
   ]
  },
  {
   "cell_type": "markdown",
   "metadata": {},
   "source": [
    "Для <code>rougher</code>:"
   ]
  },
  {
   "cell_type": "code",
   "execution_count": 90,
   "metadata": {},
   "outputs": [],
   "source": [
    "r_cv_rougher = RidgeCV(scoring=symmetric_mean_absolute_percentage_error, cv=5)"
   ]
  },
  {
   "cell_type": "code",
   "execution_count": 91,
   "metadata": {},
   "outputs": [
    {
     "data": {
      "text/plain": [
       "RidgeCV(alphas=array([ 0.1,  1. , 10. ]), cv=5,\n",
       "        scoring=make_scorer(sMAPE, greater_is_better=False))"
      ]
     },
     "execution_count": 91,
     "metadata": {},
     "output_type": "execute_result"
    }
   ],
   "source": [
    "r_cv_rougher.fit(features_train_rougher, target_train_rougher)"
   ]
  },
  {
   "cell_type": "code",
   "execution_count": 92,
   "metadata": {},
   "outputs": [
    {
     "data": {
      "text/plain": [
       "6.590568418631285"
      ]
     },
     "execution_count": 92,
     "metadata": {},
     "output_type": "execute_result"
    }
   ],
   "source": [
    "-r_cv_rougher.best_score_"
   ]
  },
  {
   "cell_type": "markdown",
   "metadata": {},
   "source": [
    "Финальная метрика:"
   ]
  },
  {
   "cell_type": "code",
   "execution_count": 93,
   "metadata": {},
   "outputs": [
    {
     "data": {
      "text/plain": [
       "9.810903973982247"
      ]
     },
     "execution_count": 93,
     "metadata": {},
     "output_type": "execute_result"
    }
   ],
   "source": [
    "sMAPE_final(-r_cv_rougher.best_score_, -r_cv_final.best_score_)"
   ]
  },
  {
   "cell_type": "markdown",
   "metadata": {},
   "source": [
    "Воспользуемся моделью <code>GridSearchCV</code> из библиотеки <code>sklearn.model_selection</code>, который применяет кросс-валидацию для подбора лучших гиперпараметров, чьи вариации указаны в словаре <code>params</code>, в качестве обьекта оценки будем использовать наиболее точную модель - 'Регрессия случайного леса':"
   ]
  },
  {
   "cell_type": "code",
   "execution_count": 94,
   "metadata": {},
   "outputs": [],
   "source": [
    "params = {\n",
    "    'n_estimators': range(250, 401, 50),\n",
    "    'max_depth': [i for i in range(5, 16, 5)] + [None],\n",
    "    'min_samples_split': range(6, 13, 2),\n",
    "    'min_samples_leaf': range(2, 9, 2),\n",
    "    'random_state': [RANDOM_STATE],\n",
    "    'n_jobs': [-1] \n",
    "}"
   ]
  },
  {
   "cell_type": "markdown",
   "metadata": {},
   "source": [
    "Для <code>final</code>:"
   ]
  },
  {
   "cell_type": "code",
   "execution_count": 95,
   "metadata": {},
   "outputs": [],
   "source": [
    "rf_grid_final = GridSearchCV(\n",
    "    RandomForestRegressor(),\n",
    "    param_grid=params, \n",
    "    cv=5,\n",
    "    scoring=symmetric_mean_absolute_percentage_error,\n",
    "    n_jobs=-1\n",
    ")"
   ]
  },
  {
   "cell_type": "code",
   "execution_count": 96,
   "metadata": {
    "scrolled": true
   },
   "outputs": [
    {
     "name": "stdout",
     "output_type": "stream",
     "text": [
      "\n"
     ]
    }
   ],
   "source": [
    "rf_grid_final.fit(features_train_final, target_train_final)"
   ]
  },
  {
   "cell_type": "code",
   "execution_count": 97,
   "metadata": {},
   "outputs": [
    {
     "data": {
      "text/plain": [
       "9.11294302262844"
      ]
     },
     "execution_count": 97,
     "metadata": {},
     "output_type": "execute_result"
    }
   ],
   "source": [
    "-rf_grid_final.best_score_"
   ]
  },
  {
   "cell_type": "code",
   "execution_count": 98,
   "metadata": {},
   "outputs": [
    {
     "data": {
      "text/plain": [
       "{'max_depth': 5,\n",
       " 'min_samples_leaf': 8,\n",
       " 'min_samples_split': 8,\n",
       " 'n_estimators': 250,\n",
       " 'n_jobs': -1,\n",
       " 'random_state': 41626}"
      ]
     },
     "execution_count": 98,
     "metadata": {},
     "output_type": "execute_result"
    }
   ],
   "source": [
    "rf_grid_final.best_params_"
   ]
  },
  {
   "cell_type": "markdown",
   "metadata": {},
   "source": [
    "Для <code>rougher</code>:"
   ]
  },
  {
   "cell_type": "code",
   "execution_count": 99,
   "metadata": {},
   "outputs": [],
   "source": [
    "rf_grid_rougher = GridSearchCV(\n",
    "    RandomForestRegressor(),\n",
    "    param_grid=params, \n",
    "    cv=5,\n",
    "    scoring=symmetric_mean_absolute_percentage_error,\n",
    "    n_jobs=-1\n",
    ")"
   ]
  },
  {
   "cell_type": "code",
   "execution_count": 100,
   "metadata": {},
   "outputs": [
    {
     "name": "stdout",
     "output_type": "stream",
     "text": [
      "\n"
     ]
    }
   ],
   "source": [
    "rf_grid_rougher.fit(features_train_rougher, target_train_rougher)"
   ]
  },
  {
   "cell_type": "code",
   "execution_count": 101,
   "metadata": {},
   "outputs": [
    {
     "data": {
      "text/plain": [
       "6.624207067199026"
      ]
     },
     "execution_count": 101,
     "metadata": {},
     "output_type": "execute_result"
    }
   ],
   "source": [
    "-rf_grid_rougher.best_score_"
   ]
  },
  {
   "cell_type": "code",
   "execution_count": 45,
   "metadata": {},
   "outputs": [
    {
     "data": {
      "text/plain": [
       "{'max_depth': 5,\n",
       " 'min_samples_leaf': 8,\n",
       " 'min_samples_split': 10,\n",
       " 'n_estimators': 250,\n",
       " 'n_jobs': -1,\n",
       " 'random_state': 41626}"
      ]
     },
     "execution_count": 45,
     "metadata": {},
     "output_type": "execute_result"
    }
   ],
   "source": [
    "rf_grid_rougher.best_params_"
   ]
  },
  {
   "cell_type": "markdown",
   "metadata": {},
   "source": [
    "Финальная метрика:"
   ]
  },
  {
   "cell_type": "code",
   "execution_count": 102,
   "metadata": {},
   "outputs": [
    {
     "data": {
      "text/plain": [
       "8.490759033771086"
      ]
     },
     "execution_count": 102,
     "metadata": {},
     "output_type": "execute_result"
    }
   ],
   "source": [
    "sMAPE_final(-rf_grid_rougher.best_score_, -rf_grid_final.best_score_)"
   ]
  },
  {
   "cell_type": "markdown",
   "metadata": {},
   "source": [
    "### Проверка модели на тестовой выборке"
   ]
  },
  {
   "cell_type": "markdown",
   "metadata": {},
   "source": [
    "Воспользуемся наиболее успешной моделью, а именно - 'Регрессия случайного леса' с подобранными гиперпараметрами:"
   ]
  },
  {
   "cell_type": "code",
   "execution_count": 103,
   "metadata": {},
   "outputs": [
    {
     "data": {
      "text/plain": [
       "9.35476281260526"
      ]
     },
     "execution_count": 103,
     "metadata": {},
     "output_type": "execute_result"
    }
   ],
   "source": [
    "sMAPE_final(\n",
    "    sMAPE(target_test_rougher, rf_grid_rougher.predict(features_test_rougher)),\n",
    "    sMAPE(target_test_final, rf_grid_final.predict(features_test_final))\n",
    ")"
   ]
  },
  {
   "cell_type": "markdown",
   "metadata": {},
   "source": [
    "Значение главной метрики довольно маленькое учитывая, что оно лежит в промежутке от 0% до 200%. Получается модель хорошо предсказывает данные."
   ]
  },
  {
   "cell_type": "markdown",
   "metadata": {},
   "source": [
    "## Проверка адеватности модели"
   ]
  },
  {
   "cell_type": "code",
   "execution_count": 48,
   "metadata": {},
   "outputs": [
    {
     "data": {
      "text/plain": [
       "DummyRegressor()"
      ]
     },
     "execution_count": 48,
     "metadata": {},
     "output_type": "execute_result"
    }
   ],
   "source": [
    "dr_model_final = DummyRegressor(strategy='mean')\n",
    "dr_model_final.fit(features_train_final, target_train_final)"
   ]
  },
  {
   "cell_type": "code",
   "execution_count": 49,
   "metadata": {},
   "outputs": [
    {
     "data": {
      "text/plain": [
       "DummyRegressor()"
      ]
     },
     "execution_count": 49,
     "metadata": {},
     "output_type": "execute_result"
    }
   ],
   "source": [
    "dr_model_rougher = DummyRegressor(strategy='mean')\n",
    "dr_model_rougher.fit(features_train_rougher, target_train_rougher)"
   ]
  },
  {
   "cell_type": "code",
   "execution_count": 50,
   "metadata": {},
   "outputs": [
    {
     "data": {
      "text/plain": [
       "10.289630376021057"
      ]
     },
     "execution_count": 50,
     "metadata": {},
     "output_type": "execute_result"
    }
   ],
   "source": [
    "sMAPE_final(\n",
    "    sMAPE(target_test_rougher, dr_model_rougher.predict(features_test_rougher)),\n",
    "    sMAPE(target_test_final, dr_model_final.predict(features_test_final))\n",
    ")"
   ]
  },
  {
   "cell_type": "markdown",
   "metadata": {},
   "source": [
    "При проверки модели на тестовой выборке итоговое sMAPE составило 9.3% vs 10.3% на константной модели. В следствии чего можно предположить, что модель адеватна и может быть использована для подобных задач. "
   ]
  },
  {
   "cell_type": "markdown",
   "metadata": {},
   "source": [
    "## Общий итог"
   ]
  },
  {
   "cell_type": "markdown",
   "metadata": {},
   "source": [
    "- Подготовка данных:\n",
    "    - Проверенна корректность вычисленной эффективности обогащения в обучающей выборке с помощью MAE.\n",
    "    - Были восстановлены пропуски в данных, с помощью недавних по дате к ним обьектов.\n",
    "    - Были удалены признаки из обучающей выборки, отсутствующие в тестовой выборке.\n",
    "    - Тестовая и обучающая выборки были разбиты на целевые и обычные признаки.\n",
    "    - Масштабированны данные в обучающей и тестовой выборках, в которых уже нет целевых признаков.\n",
    "    - Разбили тестовую и обучающую выборки с обычными и целевыми признакаими, на выборки для предсказаниях на этапах <code>rougher</code> и на этапе <code>final</code> (т.к. для предсказания на этапе <code>rougher</code> доступны только предшествующие ему признаки, а не все из тестовой выборки).\n",
    "- Анализ данных:\n",
    "    - Было выявлено, что концентрация золота на всех этапах обработки стабильно увеличивается, в отличии от остальных металов, концентрация которых значительно не изменяется.\n",
    "    - Было определено, что распределения размеров гранул сырья на обучающей и тестовой выборках незначительно расходятся, что не должно привести к существенной деградации моделей из-за смещения данных.\n",
    "    - Заключено, что суммарная концентрация веществ на различных этапах обработки практически не изменяется, концентрация золота стабильно увеличивается, а концентрация соли - уменьшается.\n",
    "- Модель:\n",
    "    - Были созданы функции sMAPE и sMAPE_final (Итоговое sMAPE).\n",
    "    - Функция sMAPE была \"обернута\" в <code>make_scorer</code>, для использования в <code>RidgeCV</code> и <code>GridSearchCV</code>.\n",
    "    - Важно отметить, что все дальнейшие действия проводились отдельно для предсказания целевой метрики на этапе <code>rougher</code> и отдельно на этапе <code>final</code>, т.е. каждая следующая модель создавалась не в единственном экземпляре, а в количестве двух, и данные для них использовались различные, для предсказания на этапе <code>rougher</code> и <code>final</code> соответственно.\n",
    "    - Были протестированны модели 'Гребневая регрессия' и 'Регрессия случайного леса', в комбинации с \"кросс-валидацией\", с помощью <code>RidgeCV</code> и <code>GridSearchCV</code> соответственно.\n",
    "    - Лучшей моделью оказалась - 'Регрессия случайного леса' с подобранными гиперпараметрами, с помощью <code>GridSearchCV</code>.\n",
    "    - Лучшая модель показала хороший результат при предсказании тетстовой выборки.\n",
    "    - Лучшая модель на 1% превосходит константную модель, предсказывающую среднее значение подаваемой ей на обучение выборки с целевым признаком."
   ]
  }
 ],
 "metadata": {
  "ExecuteTimeLog": [
   {
    "duration": 415,
    "start_time": "2023-03-13T12:45:44.561Z"
   },
   {
    "duration": 1385,
    "start_time": "2023-03-13T12:46:33.716Z"
   },
   {
    "duration": 28,
    "start_time": "2023-03-13T12:46:41.748Z"
   },
   {
    "duration": 61,
    "start_time": "2023-03-13T12:47:21.603Z"
   },
   {
    "duration": 18,
    "start_time": "2023-03-13T12:47:25.229Z"
   },
   {
    "duration": 10,
    "start_time": "2023-03-13T12:54:43.841Z"
   },
   {
    "duration": 8,
    "start_time": "2023-03-13T12:57:01.578Z"
   },
   {
    "duration": 6,
    "start_time": "2023-03-13T12:58:25.932Z"
   },
   {
    "duration": 30,
    "start_time": "2023-03-13T13:17:00.311Z"
   },
   {
    "duration": 6,
    "start_time": "2023-03-13T13:17:13.433Z"
   },
   {
    "duration": 775,
    "start_time": "2023-03-13T13:17:30.223Z"
   },
   {
    "duration": 48,
    "start_time": "2023-03-13T13:17:55.077Z"
   },
   {
    "duration": 15,
    "start_time": "2023-03-13T13:36:49.892Z"
   },
   {
    "duration": 21,
    "start_time": "2023-03-13T14:23:43.002Z"
   },
   {
    "duration": 3907,
    "start_time": "2023-03-13T14:24:10.142Z"
   },
   {
    "duration": 327,
    "start_time": "2023-03-13T14:24:22.743Z"
   },
   {
    "duration": 6,
    "start_time": "2023-03-13T14:24:27.608Z"
   },
   {
    "duration": 47,
    "start_time": "2023-03-13T14:24:35.155Z"
   },
   {
    "duration": 6,
    "start_time": "2023-03-13T14:24:37.198Z"
   },
   {
    "duration": 5,
    "start_time": "2023-03-13T14:24:42.630Z"
   },
   {
    "duration": 8,
    "start_time": "2023-03-13T14:24:46.376Z"
   },
   {
    "duration": 21,
    "start_time": "2023-03-13T14:57:44.702Z"
   },
   {
    "duration": 10,
    "start_time": "2023-03-13T15:00:40.717Z"
   },
   {
    "duration": 7,
    "start_time": "2023-03-13T17:55:49.808Z"
   },
   {
    "duration": 4,
    "start_time": "2023-03-13T17:55:52.024Z"
   },
   {
    "duration": 482,
    "start_time": "2023-03-13T17:56:23.808Z"
   },
   {
    "duration": 4,
    "start_time": "2023-03-13T17:56:35.614Z"
   },
   {
    "duration": 9,
    "start_time": "2023-03-13T18:00:44.419Z"
   },
   {
    "duration": 95,
    "start_time": "2023-03-13T18:01:13.327Z"
   },
   {
    "duration": 5,
    "start_time": "2023-03-13T18:01:19.628Z"
   },
   {
    "duration": 14,
    "start_time": "2023-03-13T18:01:26.663Z"
   },
   {
    "duration": 15,
    "start_time": "2023-03-13T18:07:22.638Z"
   },
   {
    "duration": 10,
    "start_time": "2023-03-13T18:07:26.951Z"
   },
   {
    "duration": 797,
    "start_time": "2023-03-13T18:07:31.145Z"
   },
   {
    "duration": 7,
    "start_time": "2023-03-13T18:12:49.704Z"
   },
   {
    "duration": 6,
    "start_time": "2023-03-13T18:13:00.909Z"
   },
   {
    "duration": 29,
    "start_time": "2023-03-13T18:14:26.906Z"
   },
   {
    "duration": 32,
    "start_time": "2023-03-13T18:14:52.204Z"
   },
   {
    "duration": 23,
    "start_time": "2023-03-13T18:15:19.631Z"
   },
   {
    "duration": 10,
    "start_time": "2023-03-13T18:15:59.307Z"
   },
   {
    "duration": 8,
    "start_time": "2023-03-13T18:16:08.605Z"
   },
   {
    "duration": 60,
    "start_time": "2023-03-13T18:16:45.004Z"
   },
   {
    "duration": 711,
    "start_time": "2023-03-13T18:16:49.831Z"
   },
   {
    "duration": 50,
    "start_time": "2023-03-13T18:16:57.415Z"
   },
   {
    "duration": 3,
    "start_time": "2023-03-13T18:17:00.045Z"
   },
   {
    "duration": 5,
    "start_time": "2023-03-13T18:17:02.638Z"
   },
   {
    "duration": 6,
    "start_time": "2023-03-13T18:17:10.892Z"
   },
   {
    "duration": 5,
    "start_time": "2023-03-13T18:17:14.804Z"
   },
   {
    "duration": 45,
    "start_time": "2023-03-13T18:17:58.140Z"
   },
   {
    "duration": 3,
    "start_time": "2023-03-13T18:18:04.445Z"
   },
   {
    "duration": 3795,
    "start_time": "2023-03-13T18:18:10.340Z"
   },
   {
    "duration": 50,
    "start_time": "2023-03-14T08:33:53.666Z"
   },
   {
    "duration": 432,
    "start_time": "2023-03-14T08:34:01.746Z"
   },
   {
    "duration": 1539,
    "start_time": "2023-03-14T08:34:02.180Z"
   },
   {
    "duration": 28,
    "start_time": "2023-03-14T08:34:03.720Z"
   },
   {
    "duration": 0,
    "start_time": "2023-03-14T08:34:03.749Z"
   },
   {
    "duration": 0,
    "start_time": "2023-03-14T08:34:03.750Z"
   },
   {
    "duration": 0,
    "start_time": "2023-03-14T08:34:03.751Z"
   },
   {
    "duration": 0,
    "start_time": "2023-03-14T08:34:03.752Z"
   },
   {
    "duration": 0,
    "start_time": "2023-03-14T08:34:03.754Z"
   },
   {
    "duration": 0,
    "start_time": "2023-03-14T08:34:03.755Z"
   },
   {
    "duration": 0,
    "start_time": "2023-03-14T08:34:03.757Z"
   },
   {
    "duration": 17,
    "start_time": "2023-03-14T08:34:07.737Z"
   },
   {
    "duration": 10,
    "start_time": "2023-03-14T08:34:07.951Z"
   },
   {
    "duration": 5,
    "start_time": "2023-03-14T08:34:09.019Z"
   },
   {
    "duration": 67,
    "start_time": "2023-03-14T08:34:09.214Z"
   },
   {
    "duration": 8,
    "start_time": "2023-03-14T08:34:10.525Z"
   },
   {
    "duration": 3938,
    "start_time": "2023-03-14T08:34:11.690Z"
   },
   {
    "duration": 3752,
    "start_time": "2023-03-14T08:34:20.209Z"
   },
   {
    "duration": 88,
    "start_time": "2023-03-16T12:03:18.419Z"
   },
   {
    "duration": 106,
    "start_time": "2023-03-16T12:56:07.768Z"
   },
   {
    "duration": 437,
    "start_time": "2023-03-16T12:58:25.670Z"
   },
   {
    "duration": 2733,
    "start_time": "2023-03-16T12:58:26.789Z"
   },
   {
    "duration": 244,
    "start_time": "2023-03-16T13:04:09.383Z"
   },
   {
    "duration": 4164,
    "start_time": "2023-03-16T13:04:12.869Z"
   },
   {
    "duration": 2772,
    "start_time": "2023-03-16T13:05:01.926Z"
   },
   {
    "duration": 111,
    "start_time": "2023-03-16T13:05:15.969Z"
   },
   {
    "duration": 4831,
    "start_time": "2023-03-16T13:05:25.209Z"
   },
   {
    "duration": 19,
    "start_time": "2023-03-16T13:14:17.316Z"
   },
   {
    "duration": 11,
    "start_time": "2023-03-16T13:16:46.950Z"
   },
   {
    "duration": 15,
    "start_time": "2023-03-16T13:16:51.089Z"
   },
   {
    "duration": 21,
    "start_time": "2023-03-16T13:17:23.852Z"
   },
   {
    "duration": 26,
    "start_time": "2023-03-16T13:21:17.379Z"
   },
   {
    "duration": 24,
    "start_time": "2023-03-16T13:21:31.080Z"
   },
   {
    "duration": 9,
    "start_time": "2023-03-16T13:46:51.662Z"
   },
   {
    "duration": 1276,
    "start_time": "2023-03-16T13:47:05.496Z"
   },
   {
    "duration": 87,
    "start_time": "2023-03-16T13:47:16.708Z"
   },
   {
    "duration": 5,
    "start_time": "2023-03-16T14:36:43.687Z"
   },
   {
    "duration": 154,
    "start_time": "2023-03-16T14:36:55.584Z"
   },
   {
    "duration": 83,
    "start_time": "2023-03-16T14:36:58.638Z"
   },
   {
    "duration": 7,
    "start_time": "2023-03-16T14:37:02.512Z"
   },
   {
    "duration": 409,
    "start_time": "2023-03-16T14:46:29.830Z"
   },
   {
    "duration": 827,
    "start_time": "2023-03-16T14:46:30.241Z"
   },
   {
    "duration": 19,
    "start_time": "2023-03-16T14:46:31.070Z"
   },
   {
    "duration": 38,
    "start_time": "2023-03-16T14:46:31.091Z"
   },
   {
    "duration": 68,
    "start_time": "2023-03-16T14:46:31.130Z"
   },
   {
    "duration": 37,
    "start_time": "2023-03-16T14:46:31.200Z"
   },
   {
    "duration": 23,
    "start_time": "2023-03-16T14:46:31.239Z"
   },
   {
    "duration": 5,
    "start_time": "2023-03-16T14:46:45.236Z"
   },
   {
    "duration": 6,
    "start_time": "2023-03-16T14:46:49.729Z"
   },
   {
    "duration": 746,
    "start_time": "2023-03-16T14:49:13.063Z"
   },
   {
    "duration": 7,
    "start_time": "2023-03-16T14:50:20.568Z"
   },
   {
    "duration": 6,
    "start_time": "2023-03-16T14:50:52.121Z"
   },
   {
    "duration": 5,
    "start_time": "2023-03-16T16:00:16.853Z"
   },
   {
    "duration": 5,
    "start_time": "2023-03-16T16:04:40.036Z"
   },
   {
    "duration": 5,
    "start_time": "2023-03-16T16:04:53.207Z"
   },
   {
    "duration": 5,
    "start_time": "2023-03-16T16:42:50.365Z"
   },
   {
    "duration": 127,
    "start_time": "2023-03-16T16:43:33.432Z"
   },
   {
    "duration": 37,
    "start_time": "2023-03-16T16:43:42.776Z"
   },
   {
    "duration": 8,
    "start_time": "2023-03-16T16:44:55.011Z"
   },
   {
    "duration": 95,
    "start_time": "2023-03-16T16:45:33.899Z"
   },
   {
    "duration": 1640,
    "start_time": "2023-03-16T16:46:18.425Z"
   },
   {
    "duration": 651,
    "start_time": "2023-03-16T16:46:32.776Z"
   },
   {
    "duration": 7115,
    "start_time": "2023-03-16T16:46:47.215Z"
   },
   {
    "duration": 42352,
    "start_time": "2023-03-16T16:47:33.764Z"
   },
   {
    "duration": 13,
    "start_time": "2023-03-16T16:48:21.987Z"
   },
   {
    "duration": 42274,
    "start_time": "2023-03-16T16:48:51.962Z"
   },
   {
    "duration": 55,
    "start_time": "2023-03-16T16:52:07.385Z"
   },
   {
    "duration": 1122,
    "start_time": "2023-03-16T16:52:12.407Z"
   },
   {
    "duration": 797,
    "start_time": "2023-03-16T16:52:13.531Z"
   },
   {
    "duration": 22,
    "start_time": "2023-03-16T16:52:14.329Z"
   },
   {
    "duration": 29,
    "start_time": "2023-03-16T16:52:14.354Z"
   },
   {
    "duration": 34,
    "start_time": "2023-03-16T16:52:14.384Z"
   },
   {
    "duration": 6,
    "start_time": "2023-03-16T16:52:14.419Z"
   },
   {
    "duration": 8,
    "start_time": "2023-03-16T16:52:14.427Z"
   },
   {
    "duration": 12,
    "start_time": "2023-03-16T16:52:14.437Z"
   },
   {
    "duration": 13,
    "start_time": "2023-03-16T16:52:14.451Z"
   },
   {
    "duration": 39,
    "start_time": "2023-03-16T16:52:14.474Z"
   },
   {
    "duration": 19063,
    "start_time": "2023-03-16T16:52:14.515Z"
   },
   {
    "duration": 6,
    "start_time": "2023-03-16T17:02:49.613Z"
   },
   {
    "duration": 1567,
    "start_time": "2023-03-16T17:03:21.187Z"
   },
   {
    "duration": 6,
    "start_time": "2023-03-16T17:04:11.572Z"
   },
   {
    "duration": 15,
    "start_time": "2023-03-16T17:06:05.023Z"
   },
   {
    "duration": 7674,
    "start_time": "2023-03-16T17:06:11.599Z"
   },
   {
    "duration": 7740,
    "start_time": "2023-03-16T17:06:26.219Z"
   },
   {
    "duration": 9660,
    "start_time": "2023-03-16T17:06:42.266Z"
   },
   {
    "duration": 10,
    "start_time": "2023-03-16T17:07:36.513Z"
   },
   {
    "duration": 9,
    "start_time": "2023-03-16T17:15:08.767Z"
   },
   {
    "duration": 23,
    "start_time": "2023-03-16T17:15:16.353Z"
   },
   {
    "duration": 13,
    "start_time": "2023-03-16T17:15:43.965Z"
   },
   {
    "duration": 5,
    "start_time": "2023-03-16T17:16:03.384Z"
   },
   {
    "duration": 5,
    "start_time": "2023-03-16T17:16:09.049Z"
   },
   {
    "duration": 4,
    "start_time": "2023-03-16T17:16:20.074Z"
   },
   {
    "duration": 4,
    "start_time": "2023-03-16T17:17:03.315Z"
   },
   {
    "duration": 4,
    "start_time": "2023-03-16T17:17:05.536Z"
   },
   {
    "duration": 1146,
    "start_time": "2023-03-16T17:18:47.328Z"
   },
   {
    "duration": 785,
    "start_time": "2023-03-16T17:18:48.477Z"
   },
   {
    "duration": 21,
    "start_time": "2023-03-16T17:18:49.264Z"
   },
   {
    "duration": 12,
    "start_time": "2023-03-16T17:18:49.287Z"
   },
   {
    "duration": 29,
    "start_time": "2023-03-16T17:18:49.301Z"
   },
   {
    "duration": 5,
    "start_time": "2023-03-16T17:18:49.332Z"
   },
   {
    "duration": 38,
    "start_time": "2023-03-16T17:18:49.339Z"
   },
   {
    "duration": 5,
    "start_time": "2023-03-16T17:18:49.379Z"
   },
   {
    "duration": 128,
    "start_time": "2023-03-16T17:18:49.385Z"
   },
   {
    "duration": 19,
    "start_time": "2023-03-16T17:18:54.268Z"
   },
   {
    "duration": 14,
    "start_time": "2023-03-16T17:19:34.988Z"
   },
   {
    "duration": 11,
    "start_time": "2023-03-16T17:19:46.812Z"
   },
   {
    "duration": 19,
    "start_time": "2023-03-16T17:21:31.300Z"
   },
   {
    "duration": 6,
    "start_time": "2023-03-16T17:21:37.083Z"
   },
   {
    "duration": 22,
    "start_time": "2023-03-16T17:22:09.388Z"
   },
   {
    "duration": 118,
    "start_time": "2023-03-16T17:23:00.644Z"
   },
   {
    "duration": 421,
    "start_time": "2023-03-16T17:23:06.567Z"
   },
   {
    "duration": 9820,
    "start_time": "2023-03-16T17:25:15.223Z"
   },
   {
    "duration": 15,
    "start_time": "2023-03-16T17:25:37.712Z"
   },
   {
    "duration": 13,
    "start_time": "2023-03-16T17:26:04.397Z"
   },
   {
    "duration": 10528,
    "start_time": "2023-03-16T17:26:48.782Z"
   },
   {
    "duration": 2,
    "start_time": "2023-03-16T17:27:59.731Z"
   },
   {
    "duration": 9834,
    "start_time": "2023-03-16T17:28:04.046Z"
   },
   {
    "duration": 13,
    "start_time": "2023-03-16T17:28:15.135Z"
   },
   {
    "duration": 7,
    "start_time": "2023-03-16T17:29:24.850Z"
   },
   {
    "duration": 1141,
    "start_time": "2023-03-16T17:31:45.895Z"
   },
   {
    "duration": 747,
    "start_time": "2023-03-16T17:31:47.038Z"
   },
   {
    "duration": 22,
    "start_time": "2023-03-16T17:31:47.786Z"
   },
   {
    "duration": 18,
    "start_time": "2023-03-16T17:31:47.811Z"
   },
   {
    "duration": 61,
    "start_time": "2023-03-16T17:31:47.831Z"
   },
   {
    "duration": 8,
    "start_time": "2023-03-16T17:31:47.894Z"
   },
   {
    "duration": 5,
    "start_time": "2023-03-16T17:31:47.904Z"
   },
   {
    "duration": 7,
    "start_time": "2023-03-16T17:31:47.911Z"
   },
   {
    "duration": 24,
    "start_time": "2023-03-16T17:31:47.920Z"
   },
   {
    "duration": 35,
    "start_time": "2023-03-16T17:31:47.947Z"
   },
   {
    "duration": 9917,
    "start_time": "2023-03-16T17:31:47.984Z"
   },
   {
    "duration": 7,
    "start_time": "2023-03-16T17:32:17.912Z"
   },
   {
    "duration": 7,
    "start_time": "2023-03-16T17:32:25.145Z"
   },
   {
    "duration": 6,
    "start_time": "2023-03-16T17:32:32.700Z"
   },
   {
    "duration": 12,
    "start_time": "2023-03-16T17:33:03.447Z"
   },
   {
    "duration": 7,
    "start_time": "2023-03-16T17:33:53.692Z"
   },
   {
    "duration": 114,
    "start_time": "2023-03-16T17:34:08.941Z"
   },
   {
    "duration": 11,
    "start_time": "2023-03-16T17:34:21.965Z"
   },
   {
    "duration": 15,
    "start_time": "2023-03-16T17:34:39.992Z"
   },
   {
    "duration": 6,
    "start_time": "2023-03-16T17:35:31.200Z"
   },
   {
    "duration": 11,
    "start_time": "2023-03-16T17:35:34.966Z"
   },
   {
    "duration": 6,
    "start_time": "2023-03-16T17:35:37.532Z"
   },
   {
    "duration": 4,
    "start_time": "2023-03-16T17:35:43.864Z"
   },
   {
    "duration": 4,
    "start_time": "2023-03-16T17:35:47.974Z"
   },
   {
    "duration": 10,
    "start_time": "2023-03-16T17:36:17.034Z"
   },
   {
    "duration": 2,
    "start_time": "2023-03-16T17:36:25.855Z"
   },
   {
    "duration": 4,
    "start_time": "2023-03-16T17:36:27.565Z"
   },
   {
    "duration": 4,
    "start_time": "2023-03-16T17:36:31.858Z"
   },
   {
    "duration": 3,
    "start_time": "2023-03-16T17:36:38.035Z"
   },
   {
    "duration": 5,
    "start_time": "2023-03-16T17:36:43.287Z"
   },
   {
    "duration": 5,
    "start_time": "2023-03-16T17:36:49.863Z"
   },
   {
    "duration": 4,
    "start_time": "2023-03-16T17:36:51.298Z"
   },
   {
    "duration": 4,
    "start_time": "2023-03-16T17:37:36.952Z"
   },
   {
    "duration": 6,
    "start_time": "2023-03-16T17:37:38.217Z"
   },
   {
    "duration": 8,
    "start_time": "2023-03-16T17:38:11.545Z"
   },
   {
    "duration": 9,
    "start_time": "2023-03-16T17:38:14.398Z"
   },
   {
    "duration": 9,
    "start_time": "2023-03-16T17:38:27.571Z"
   },
   {
    "duration": 9,
    "start_time": "2023-03-16T17:38:35.052Z"
   },
   {
    "duration": 4,
    "start_time": "2023-03-16T17:38:48.871Z"
   },
   {
    "duration": 3,
    "start_time": "2023-03-16T17:39:05.366Z"
   },
   {
    "duration": 32915,
    "start_time": "2023-03-16T17:39:33.287Z"
   },
   {
    "duration": 16,
    "start_time": "2023-03-16T17:40:41.310Z"
   },
   {
    "duration": 4,
    "start_time": "2023-03-16T17:40:44.446Z"
   },
   {
    "duration": 2,
    "start_time": "2023-03-16T17:40:57.523Z"
   },
   {
    "duration": 740,
    "start_time": "2023-03-16T17:40:57.530Z"
   },
   {
    "duration": 20,
    "start_time": "2023-03-16T17:40:58.273Z"
   },
   {
    "duration": 14,
    "start_time": "2023-03-16T17:40:58.295Z"
   },
   {
    "duration": 23,
    "start_time": "2023-03-16T17:40:58.311Z"
   },
   {
    "duration": 39,
    "start_time": "2023-03-16T17:40:58.336Z"
   },
   {
    "duration": 5,
    "start_time": "2023-03-16T17:40:58.377Z"
   },
   {
    "duration": 8,
    "start_time": "2023-03-16T17:40:58.384Z"
   },
   {
    "duration": 16,
    "start_time": "2023-03-16T17:41:24.778Z"
   },
   {
    "duration": 21,
    "start_time": "2023-03-16T17:41:28.509Z"
   },
   {
    "duration": 1109,
    "start_time": "2023-03-16T17:43:16.014Z"
   },
   {
    "duration": 728,
    "start_time": "2023-03-16T17:43:17.125Z"
   },
   {
    "duration": 39,
    "start_time": "2023-03-16T17:43:17.855Z"
   },
   {
    "duration": 20,
    "start_time": "2023-03-16T17:43:53.801Z"
   },
   {
    "duration": 22,
    "start_time": "2023-03-16T17:43:56.326Z"
   },
   {
    "duration": 13,
    "start_time": "2023-03-16T17:43:57.596Z"
   },
   {
    "duration": 22,
    "start_time": "2023-03-16T17:43:59.451Z"
   },
   {
    "duration": 11,
    "start_time": "2023-03-16T17:44:00.531Z"
   },
   {
    "duration": 6,
    "start_time": "2023-03-16T17:44:00.987Z"
   },
   {
    "duration": 4,
    "start_time": "2023-03-16T17:44:02.929Z"
   },
   {
    "duration": 15,
    "start_time": "2023-03-16T17:44:13.385Z"
   },
   {
    "duration": 32420,
    "start_time": "2023-03-16T17:44:35.808Z"
   },
   {
    "duration": 13,
    "start_time": "2023-03-16T17:45:19.622Z"
   },
   {
    "duration": 36285,
    "start_time": "2023-03-16T17:45:36.518Z"
   },
   {
    "duration": 1072,
    "start_time": "2023-03-16T17:48:54.526Z"
   },
   {
    "duration": 785,
    "start_time": "2023-03-16T17:48:55.600Z"
   },
   {
    "duration": 22,
    "start_time": "2023-03-16T17:48:56.387Z"
   },
   {
    "duration": 31,
    "start_time": "2023-03-16T17:48:56.412Z"
   },
   {
    "duration": 37,
    "start_time": "2023-03-16T17:48:56.445Z"
   },
   {
    "duration": 24,
    "start_time": "2023-03-16T17:48:56.483Z"
   },
   {
    "duration": 8,
    "start_time": "2023-03-16T17:48:56.509Z"
   },
   {
    "duration": 10,
    "start_time": "2023-03-16T17:48:56.519Z"
   },
   {
    "duration": 6,
    "start_time": "2023-03-16T17:48:56.531Z"
   },
   {
    "duration": 17,
    "start_time": "2023-03-16T17:48:56.572Z"
   },
   {
    "duration": 2975,
    "start_time": "2023-03-16T17:48:56.592Z"
   },
   {
    "duration": 12,
    "start_time": "2023-03-16T17:49:13.698Z"
   },
   {
    "duration": 3193,
    "start_time": "2023-03-16T17:51:02.968Z"
   },
   {
    "duration": 3115,
    "start_time": "2023-03-16T17:51:41.484Z"
   },
   {
    "duration": 1184,
    "start_time": "2023-03-16T17:52:39.362Z"
   },
   {
    "duration": 808,
    "start_time": "2023-03-16T17:52:40.549Z"
   },
   {
    "duration": 27,
    "start_time": "2023-03-16T17:52:41.359Z"
   },
   {
    "duration": 29,
    "start_time": "2023-03-16T17:52:41.388Z"
   },
   {
    "duration": 14,
    "start_time": "2023-03-16T17:52:41.419Z"
   },
   {
    "duration": 47,
    "start_time": "2023-03-16T17:52:41.435Z"
   },
   {
    "duration": 7,
    "start_time": "2023-03-16T17:52:41.483Z"
   },
   {
    "duration": 10,
    "start_time": "2023-03-16T17:52:41.492Z"
   },
   {
    "duration": 6,
    "start_time": "2023-03-16T17:52:41.504Z"
   },
   {
    "duration": 33,
    "start_time": "2023-03-16T17:52:41.513Z"
   },
   {
    "duration": 2935,
    "start_time": "2023-03-16T17:52:41.549Z"
   },
   {
    "duration": 13,
    "start_time": "2023-03-16T17:52:44.486Z"
   },
   {
    "duration": 1170,
    "start_time": "2023-03-16T17:55:47.012Z"
   },
   {
    "duration": 812,
    "start_time": "2023-03-16T17:55:48.185Z"
   },
   {
    "duration": 22,
    "start_time": "2023-03-16T17:55:48.998Z"
   },
   {
    "duration": 31,
    "start_time": "2023-03-16T17:55:49.023Z"
   },
   {
    "duration": 31,
    "start_time": "2023-03-16T17:55:49.056Z"
   },
   {
    "duration": 25,
    "start_time": "2023-03-16T17:55:49.088Z"
   },
   {
    "duration": 7,
    "start_time": "2023-03-16T17:55:49.115Z"
   },
   {
    "duration": 7,
    "start_time": "2023-03-16T17:55:49.124Z"
   },
   {
    "duration": 48,
    "start_time": "2023-03-16T17:55:49.133Z"
   },
   {
    "duration": 31,
    "start_time": "2023-03-16T17:55:49.183Z"
   },
   {
    "duration": 33195,
    "start_time": "2023-03-16T17:55:49.216Z"
   },
   {
    "duration": 12,
    "start_time": "2023-03-16T17:56:22.413Z"
   },
   {
    "duration": 1142,
    "start_time": "2023-03-16T17:58:18.722Z"
   },
   {
    "duration": 805,
    "start_time": "2023-03-16T17:58:19.866Z"
   },
   {
    "duration": 31,
    "start_time": "2023-03-16T17:58:20.674Z"
   },
   {
    "duration": 34,
    "start_time": "2023-03-16T17:58:20.708Z"
   },
   {
    "duration": 41,
    "start_time": "2023-03-16T17:58:20.744Z"
   },
   {
    "duration": 23,
    "start_time": "2023-03-16T17:58:20.788Z"
   },
   {
    "duration": 13,
    "start_time": "2023-03-16T17:58:20.813Z"
   },
   {
    "duration": 9,
    "start_time": "2023-03-16T17:58:20.828Z"
   },
   {
    "duration": 8,
    "start_time": "2023-03-16T17:58:20.839Z"
   },
   {
    "duration": 40,
    "start_time": "2023-03-16T17:58:20.872Z"
   },
   {
    "duration": 3990,
    "start_time": "2023-03-16T17:58:20.914Z"
   },
   {
    "duration": 30482,
    "start_time": "2023-03-16T17:58:24.906Z"
   },
   {
    "duration": 1135,
    "start_time": "2023-03-16T17:59:59.013Z"
   },
   {
    "duration": 827,
    "start_time": "2023-03-16T18:00:00.150Z"
   },
   {
    "duration": 21,
    "start_time": "2023-03-16T18:00:00.979Z"
   },
   {
    "duration": 68,
    "start_time": "2023-03-16T18:00:01.002Z"
   },
   {
    "duration": 58,
    "start_time": "2023-03-16T18:00:01.072Z"
   },
   {
    "duration": 62,
    "start_time": "2023-03-16T18:00:01.132Z"
   },
   {
    "duration": 55,
    "start_time": "2023-03-16T18:00:01.196Z"
   },
   {
    "duration": 37,
    "start_time": "2023-03-16T18:00:01.253Z"
   },
   {
    "duration": 54,
    "start_time": "2023-03-16T18:00:01.291Z"
   },
   {
    "duration": 75,
    "start_time": "2023-03-16T18:00:01.347Z"
   },
   {
    "duration": 3036,
    "start_time": "2023-03-16T18:00:01.424Z"
   },
   {
    "duration": 1054,
    "start_time": "2023-03-16T18:00:37.313Z"
   },
   {
    "duration": 809,
    "start_time": "2023-03-16T18:00:38.369Z"
   },
   {
    "duration": 21,
    "start_time": "2023-03-16T18:00:39.179Z"
   },
   {
    "duration": 34,
    "start_time": "2023-03-16T18:00:39.202Z"
   },
   {
    "duration": 42,
    "start_time": "2023-03-16T18:00:39.238Z"
   },
   {
    "duration": 23,
    "start_time": "2023-03-16T18:00:39.282Z"
   },
   {
    "duration": 7,
    "start_time": "2023-03-16T18:00:39.307Z"
   },
   {
    "duration": 5,
    "start_time": "2023-03-16T18:00:39.316Z"
   },
   {
    "duration": 5,
    "start_time": "2023-03-16T18:00:39.323Z"
   },
   {
    "duration": 26,
    "start_time": "2023-03-16T18:00:39.372Z"
   },
   {
    "duration": 4053,
    "start_time": "2023-03-16T18:00:39.400Z"
   },
   {
    "duration": 52052,
    "start_time": "2023-03-16T18:00:43.455Z"
   },
   {
    "duration": 1170,
    "start_time": "2023-03-16T21:08:21.345Z"
   },
   {
    "duration": 830,
    "start_time": "2023-03-16T21:08:22.517Z"
   },
   {
    "duration": 40,
    "start_time": "2023-03-16T21:08:23.348Z"
   },
   {
    "duration": 30,
    "start_time": "2023-03-16T21:08:23.391Z"
   },
   {
    "duration": 14,
    "start_time": "2023-03-16T21:08:23.423Z"
   },
   {
    "duration": 40,
    "start_time": "2023-03-16T21:08:23.439Z"
   },
   {
    "duration": 20,
    "start_time": "2023-03-16T21:08:23.481Z"
   },
   {
    "duration": 8,
    "start_time": "2023-03-16T21:08:23.503Z"
   },
   {
    "duration": 10,
    "start_time": "2023-03-16T21:08:23.512Z"
   },
   {
    "duration": 5,
    "start_time": "2023-03-16T21:08:45.800Z"
   },
   {
    "duration": 104,
    "start_time": "2023-03-16T21:08:53.485Z"
   },
   {
    "duration": 13,
    "start_time": "2023-03-16T21:09:39.746Z"
   },
   {
    "duration": 24,
    "start_time": "2023-03-16T21:09:45.924Z"
   },
   {
    "duration": 6,
    "start_time": "2023-03-16T21:09:51.036Z"
   },
   {
    "duration": 12,
    "start_time": "2023-03-16T21:10:09.528Z"
   },
   {
    "duration": 10,
    "start_time": "2023-03-16T21:10:11.324Z"
   },
   {
    "duration": 5,
    "start_time": "2023-03-16T21:10:14.486Z"
   },
   {
    "duration": 6,
    "start_time": "2023-03-16T21:10:16.578Z"
   },
   {
    "duration": 4,
    "start_time": "2023-03-16T21:10:56.000Z"
   },
   {
    "duration": 5,
    "start_time": "2023-03-16T21:10:58.685Z"
   },
   {
    "duration": 4,
    "start_time": "2023-03-16T21:11:02.529Z"
   },
   {
    "duration": 10,
    "start_time": "2023-03-16T21:12:11.124Z"
   },
   {
    "duration": 6,
    "start_time": "2023-03-16T21:12:18.646Z"
   },
   {
    "duration": 7,
    "start_time": "2023-03-16T21:12:27.387Z"
   },
   {
    "duration": 9,
    "start_time": "2023-03-16T21:13:24.348Z"
   },
   {
    "duration": 10,
    "start_time": "2023-03-16T21:13:32.018Z"
   },
   {
    "duration": 70,
    "start_time": "2023-03-16T21:14:24.147Z"
   },
   {
    "duration": 6,
    "start_time": "2023-03-16T21:17:12.706Z"
   },
   {
    "duration": 4,
    "start_time": "2023-03-16T21:19:40.594Z"
   },
   {
    "duration": 3,
    "start_time": "2023-03-16T21:19:50.013Z"
   },
   {
    "duration": 4,
    "start_time": "2023-03-16T21:19:59.123Z"
   },
   {
    "duration": 3,
    "start_time": "2023-03-16T21:20:52.823Z"
   },
   {
    "duration": 4,
    "start_time": "2023-03-16T21:20:53.185Z"
   },
   {
    "duration": 3,
    "start_time": "2023-03-16T21:21:33.500Z"
   },
   {
    "duration": 203,
    "start_time": "2023-03-16T21:21:47.684Z"
   },
   {
    "duration": 7,
    "start_time": "2023-03-16T21:21:56.068Z"
   },
   {
    "duration": 5,
    "start_time": "2023-03-16T21:22:00.231Z"
   },
   {
    "duration": 1111,
    "start_time": "2023-03-16T21:22:17.515Z"
   },
   {
    "duration": 819,
    "start_time": "2023-03-16T21:22:18.628Z"
   },
   {
    "duration": 34,
    "start_time": "2023-03-16T21:22:19.449Z"
   },
   {
    "duration": 31,
    "start_time": "2023-03-16T21:22:19.486Z"
   },
   {
    "duration": 20,
    "start_time": "2023-03-16T21:22:19.519Z"
   },
   {
    "duration": 50,
    "start_time": "2023-03-16T21:22:19.541Z"
   },
   {
    "duration": 17,
    "start_time": "2023-03-16T21:22:19.592Z"
   },
   {
    "duration": 26,
    "start_time": "2023-03-16T21:22:19.611Z"
   },
   {
    "duration": 29,
    "start_time": "2023-03-16T21:22:19.638Z"
   },
   {
    "duration": 37,
    "start_time": "2023-03-16T21:22:19.669Z"
   },
   {
    "duration": 25,
    "start_time": "2023-03-16T21:22:19.707Z"
   },
   {
    "duration": 13,
    "start_time": "2023-03-16T21:22:32.584Z"
   },
   {
    "duration": 143,
    "start_time": "2023-03-16T21:23:02.791Z"
   },
   {
    "duration": 14,
    "start_time": "2023-03-16T21:23:17.939Z"
   },
   {
    "duration": 22,
    "start_time": "2023-03-16T21:23:19.565Z"
   },
   {
    "duration": 83,
    "start_time": "2023-03-16T21:23:27.873Z"
   },
   {
    "duration": 11,
    "start_time": "2023-03-16T21:23:29.367Z"
   },
   {
    "duration": 110,
    "start_time": "2023-03-16T21:23:42.260Z"
   },
   {
    "duration": 8,
    "start_time": "2023-03-16T21:23:47.345Z"
   },
   {
    "duration": 4,
    "start_time": "2023-03-16T21:24:14.923Z"
   },
   {
    "duration": 33,
    "start_time": "2023-03-16T21:24:41.960Z"
   },
   {
    "duration": 3,
    "start_time": "2023-03-16T21:25:26.911Z"
   },
   {
    "duration": 4,
    "start_time": "2023-03-16T21:25:27.954Z"
   },
   {
    "duration": 21,
    "start_time": "2023-03-16T21:25:28.441Z"
   },
   {
    "duration": 6,
    "start_time": "2023-03-16T21:25:31.718Z"
   },
   {
    "duration": 4,
    "start_time": "2023-03-16T21:26:19.048Z"
   },
   {
    "duration": 6,
    "start_time": "2023-03-16T21:26:20.946Z"
   },
   {
    "duration": 7,
    "start_time": "2023-03-16T21:26:26.578Z"
   },
   {
    "duration": 6,
    "start_time": "2023-03-16T21:26:28.053Z"
   },
   {
    "duration": 326,
    "start_time": "2023-03-16T21:27:08.758Z"
   },
   {
    "duration": 11,
    "start_time": "2023-03-16T21:32:12.497Z"
   },
   {
    "duration": 4,
    "start_time": "2023-03-16T21:33:04.734Z"
   },
   {
    "duration": 10,
    "start_time": "2023-03-16T21:33:24.003Z"
   },
   {
    "duration": 4,
    "start_time": "2023-03-16T21:33:28.210Z"
   },
   {
    "duration": 4,
    "start_time": "2023-03-16T21:33:34.006Z"
   },
   {
    "duration": 4,
    "start_time": "2023-03-16T21:33:45.257Z"
   },
   {
    "duration": 4,
    "start_time": "2023-03-16T21:37:35.236Z"
   },
   {
    "duration": 1076,
    "start_time": "2023-03-16T21:39:16.920Z"
   },
   {
    "duration": 858,
    "start_time": "2023-03-16T21:39:17.997Z"
   },
   {
    "duration": 30,
    "start_time": "2023-03-16T21:39:18.859Z"
   },
   {
    "duration": 32,
    "start_time": "2023-03-16T21:39:18.891Z"
   },
   {
    "duration": 14,
    "start_time": "2023-03-16T21:39:18.925Z"
   },
   {
    "duration": 47,
    "start_time": "2023-03-16T21:39:18.941Z"
   },
   {
    "duration": 10,
    "start_time": "2023-03-16T21:39:18.990Z"
   },
   {
    "duration": 7,
    "start_time": "2023-03-16T21:39:19.002Z"
   },
   {
    "duration": 7,
    "start_time": "2023-03-16T21:39:19.011Z"
   },
   {
    "duration": 4,
    "start_time": "2023-03-16T21:39:19.020Z"
   },
   {
    "duration": 16,
    "start_time": "2023-03-16T21:39:19.026Z"
   },
   {
    "duration": 3170,
    "start_time": "2023-03-16T21:39:19.044Z"
   },
   {
    "duration": 1128,
    "start_time": "2023-03-16T21:39:39.314Z"
   },
   {
    "duration": 844,
    "start_time": "2023-03-16T21:39:40.445Z"
   },
   {
    "duration": 19,
    "start_time": "2023-03-16T21:39:41.291Z"
   },
   {
    "duration": 33,
    "start_time": "2023-03-16T21:39:41.312Z"
   },
   {
    "duration": 39,
    "start_time": "2023-03-16T21:39:41.346Z"
   },
   {
    "duration": 54,
    "start_time": "2023-03-16T21:39:41.387Z"
   },
   {
    "duration": 45,
    "start_time": "2023-03-16T21:39:41.442Z"
   },
   {
    "duration": 26,
    "start_time": "2023-03-16T21:39:41.491Z"
   },
   {
    "duration": 33,
    "start_time": "2023-03-16T21:39:41.520Z"
   },
   {
    "duration": 33,
    "start_time": "2023-03-16T21:39:41.556Z"
   },
   {
    "duration": 49,
    "start_time": "2023-03-16T21:39:41.591Z"
   },
   {
    "duration": 3082,
    "start_time": "2023-03-16T21:39:44.341Z"
   },
   {
    "duration": 1365,
    "start_time": "2023-03-16T21:40:09.761Z"
   },
   {
    "duration": 825,
    "start_time": "2023-03-16T21:40:11.128Z"
   },
   {
    "duration": 28,
    "start_time": "2023-03-16T21:40:11.955Z"
   },
   {
    "duration": 31,
    "start_time": "2023-03-16T21:40:11.986Z"
   },
   {
    "duration": 13,
    "start_time": "2023-03-16T21:40:12.019Z"
   },
   {
    "duration": 20,
    "start_time": "2023-03-16T21:40:12.034Z"
   },
   {
    "duration": 8,
    "start_time": "2023-03-16T21:40:12.082Z"
   },
   {
    "duration": 6,
    "start_time": "2023-03-16T21:40:12.091Z"
   },
   {
    "duration": 9,
    "start_time": "2023-03-16T21:40:12.098Z"
   },
   {
    "duration": 5,
    "start_time": "2023-03-16T21:40:12.109Z"
   },
   {
    "duration": 16,
    "start_time": "2023-03-16T21:40:12.115Z"
   },
   {
    "duration": 3233,
    "start_time": "2023-03-16T21:40:12.133Z"
   },
   {
    "duration": 1150,
    "start_time": "2023-03-16T21:40:37.554Z"
   },
   {
    "duration": 810,
    "start_time": "2023-03-16T21:40:38.706Z"
   },
   {
    "duration": 21,
    "start_time": "2023-03-16T21:40:39.517Z"
   },
   {
    "duration": 53,
    "start_time": "2023-03-16T21:40:39.541Z"
   },
   {
    "duration": 14,
    "start_time": "2023-03-16T21:40:39.596Z"
   },
   {
    "duration": 23,
    "start_time": "2023-03-16T21:40:39.612Z"
   },
   {
    "duration": 6,
    "start_time": "2023-03-16T21:40:39.637Z"
   },
   {
    "duration": 17,
    "start_time": "2023-03-16T21:40:39.645Z"
   },
   {
    "duration": 8,
    "start_time": "2023-03-16T21:40:39.680Z"
   },
   {
    "duration": 4,
    "start_time": "2023-03-16T21:40:39.691Z"
   },
   {
    "duration": 23,
    "start_time": "2023-03-16T21:40:39.697Z"
   },
   {
    "duration": 3161,
    "start_time": "2023-03-16T21:40:39.721Z"
   },
   {
    "duration": 1083,
    "start_time": "2023-03-16T21:41:03.333Z"
   },
   {
    "duration": 829,
    "start_time": "2023-03-16T21:41:04.418Z"
   },
   {
    "duration": 36,
    "start_time": "2023-03-16T21:41:05.249Z"
   },
   {
    "duration": 29,
    "start_time": "2023-03-16T21:41:05.287Z"
   },
   {
    "duration": 13,
    "start_time": "2023-03-16T21:41:05.318Z"
   },
   {
    "duration": 22,
    "start_time": "2023-03-16T21:41:05.333Z"
   },
   {
    "duration": 9,
    "start_time": "2023-03-16T21:41:05.378Z"
   },
   {
    "duration": 9,
    "start_time": "2023-03-16T21:41:05.389Z"
   },
   {
    "duration": 8,
    "start_time": "2023-03-16T21:41:05.400Z"
   },
   {
    "duration": 7,
    "start_time": "2023-03-16T21:41:05.411Z"
   },
   {
    "duration": 16,
    "start_time": "2023-03-16T21:41:05.420Z"
   },
   {
    "duration": 3104,
    "start_time": "2023-03-16T21:41:05.438Z"
   },
   {
    "duration": 1192,
    "start_time": "2023-03-16T21:41:25.844Z"
   },
   {
    "duration": 872,
    "start_time": "2023-03-16T21:41:27.039Z"
   },
   {
    "duration": 21,
    "start_time": "2023-03-16T21:41:27.913Z"
   },
   {
    "duration": 28,
    "start_time": "2023-03-16T21:41:27.936Z"
   },
   {
    "duration": 23,
    "start_time": "2023-03-16T21:41:27.965Z"
   },
   {
    "duration": 23,
    "start_time": "2023-03-16T21:41:27.989Z"
   },
   {
    "duration": 8,
    "start_time": "2023-03-16T21:41:28.014Z"
   },
   {
    "duration": 6,
    "start_time": "2023-03-16T21:41:28.023Z"
   },
   {
    "duration": 11,
    "start_time": "2023-03-16T21:41:28.030Z"
   },
   {
    "duration": 8,
    "start_time": "2023-03-16T21:41:28.043Z"
   },
   {
    "duration": 17,
    "start_time": "2023-03-16T21:41:28.052Z"
   },
   {
    "duration": 3587,
    "start_time": "2023-03-16T21:41:28.071Z"
   },
   {
    "duration": 1137,
    "start_time": "2023-03-16T21:42:21.453Z"
   },
   {
    "duration": 799,
    "start_time": "2023-03-16T21:42:22.592Z"
   },
   {
    "duration": 20,
    "start_time": "2023-03-16T21:42:23.393Z"
   },
   {
    "duration": 29,
    "start_time": "2023-03-16T21:42:23.415Z"
   },
   {
    "duration": 36,
    "start_time": "2023-03-16T21:42:23.446Z"
   },
   {
    "duration": 23,
    "start_time": "2023-03-16T21:42:23.484Z"
   },
   {
    "duration": 16,
    "start_time": "2023-03-16T21:42:23.509Z"
   },
   {
    "duration": 15,
    "start_time": "2023-03-16T21:42:23.527Z"
   },
   {
    "duration": 7,
    "start_time": "2023-03-16T21:42:23.543Z"
   },
   {
    "duration": 9,
    "start_time": "2023-03-16T21:42:23.553Z"
   },
   {
    "duration": 28,
    "start_time": "2023-03-16T21:42:23.563Z"
   },
   {
    "duration": 3115,
    "start_time": "2023-03-16T21:42:23.593Z"
   },
   {
    "duration": 1157,
    "start_time": "2023-03-16T21:43:06.119Z"
   },
   {
    "duration": 826,
    "start_time": "2023-03-16T21:43:07.284Z"
   },
   {
    "duration": 20,
    "start_time": "2023-03-16T21:43:08.112Z"
   },
   {
    "duration": 47,
    "start_time": "2023-03-16T21:43:08.134Z"
   },
   {
    "duration": 17,
    "start_time": "2023-03-16T21:43:08.183Z"
   },
   {
    "duration": 25,
    "start_time": "2023-03-16T21:43:08.201Z"
   },
   {
    "duration": 8,
    "start_time": "2023-03-16T21:43:08.228Z"
   },
   {
    "duration": 40,
    "start_time": "2023-03-16T21:43:08.238Z"
   },
   {
    "duration": 33,
    "start_time": "2023-03-16T21:43:08.280Z"
   },
   {
    "duration": 7,
    "start_time": "2023-03-16T21:43:08.316Z"
   },
   {
    "duration": 24,
    "start_time": "2023-03-16T21:43:08.325Z"
   },
   {
    "duration": 90,
    "start_time": "2023-03-16T21:43:09.262Z"
   },
   {
    "duration": 3127,
    "start_time": "2023-03-16T21:43:09.465Z"
   },
   {
    "duration": 1182,
    "start_time": "2023-03-16T21:43:47.473Z"
   },
   {
    "duration": 859,
    "start_time": "2023-03-16T21:43:48.657Z"
   },
   {
    "duration": 20,
    "start_time": "2023-03-16T21:43:49.518Z"
   },
   {
    "duration": 52,
    "start_time": "2023-03-16T21:43:49.540Z"
   },
   {
    "duration": 13,
    "start_time": "2023-03-16T21:43:49.594Z"
   },
   {
    "duration": 26,
    "start_time": "2023-03-16T21:43:49.609Z"
   },
   {
    "duration": 8,
    "start_time": "2023-03-16T21:43:49.637Z"
   },
   {
    "duration": 6,
    "start_time": "2023-03-16T21:43:49.646Z"
   },
   {
    "duration": 31,
    "start_time": "2023-03-16T21:43:49.672Z"
   },
   {
    "duration": 10,
    "start_time": "2023-03-16T21:43:49.706Z"
   },
   {
    "duration": 17,
    "start_time": "2023-03-16T21:43:49.718Z"
   },
   {
    "duration": 3028,
    "start_time": "2023-03-16T21:43:49.737Z"
   },
   {
    "duration": 1148,
    "start_time": "2023-03-16T21:48:23.173Z"
   },
   {
    "duration": 804,
    "start_time": "2023-03-16T21:48:24.324Z"
   },
   {
    "duration": 21,
    "start_time": "2023-03-16T21:48:25.130Z"
   },
   {
    "duration": 44,
    "start_time": "2023-03-16T21:48:25.153Z"
   },
   {
    "duration": 14,
    "start_time": "2023-03-16T21:48:25.199Z"
   },
   {
    "duration": 32,
    "start_time": "2023-03-16T21:48:25.215Z"
   },
   {
    "duration": 36,
    "start_time": "2023-03-16T21:48:25.249Z"
   },
   {
    "duration": 14,
    "start_time": "2023-03-16T21:48:25.287Z"
   },
   {
    "duration": 7,
    "start_time": "2023-03-16T21:48:25.302Z"
   },
   {
    "duration": 3,
    "start_time": "2023-03-16T21:48:25.311Z"
   },
   {
    "duration": 116,
    "start_time": "2023-03-16T21:48:25.316Z"
   },
   {
    "duration": 14,
    "start_time": "2023-03-16T21:49:14.785Z"
   },
   {
    "duration": 28,
    "start_time": "2023-03-16T21:49:26.260Z"
   },
   {
    "duration": 3070,
    "start_time": "2023-03-16T21:50:13.491Z"
   },
   {
    "duration": 1219,
    "start_time": "2023-03-16T21:51:24.067Z"
   },
   {
    "duration": 5,
    "start_time": "2023-03-16T21:51:31.715Z"
   },
   {
    "duration": 61,
    "start_time": "2023-03-16T21:52:46.832Z"
   },
   {
    "duration": 1163,
    "start_time": "2023-03-16T21:52:51.139Z"
   },
   {
    "duration": 807,
    "start_time": "2023-03-16T21:52:52.304Z"
   },
   {
    "duration": 21,
    "start_time": "2023-03-16T21:52:53.112Z"
   },
   {
    "duration": 40,
    "start_time": "2023-03-16T21:52:53.135Z"
   },
   {
    "duration": 18,
    "start_time": "2023-03-16T21:52:53.180Z"
   },
   {
    "duration": 24,
    "start_time": "2023-03-16T21:52:53.199Z"
   },
   {
    "duration": 8,
    "start_time": "2023-03-16T21:52:53.225Z"
   },
   {
    "duration": 8,
    "start_time": "2023-03-16T21:52:53.234Z"
   },
   {
    "duration": 35,
    "start_time": "2023-03-16T21:52:53.243Z"
   },
   {
    "duration": 4,
    "start_time": "2023-03-16T21:52:53.281Z"
   },
   {
    "duration": 67,
    "start_time": "2023-03-16T21:52:53.287Z"
   },
   {
    "duration": 0,
    "start_time": "2023-03-16T21:52:53.356Z"
   },
   {
    "duration": 0,
    "start_time": "2023-03-16T21:52:53.357Z"
   },
   {
    "duration": 21,
    "start_time": "2023-03-16T21:53:13.674Z"
   },
   {
    "duration": 3168,
    "start_time": "2023-03-16T21:53:14.029Z"
   },
   {
    "duration": 84,
    "start_time": "2023-03-16T21:53:42.464Z"
   },
   {
    "duration": 95,
    "start_time": "2023-03-16T21:53:48.335Z"
   },
   {
    "duration": 1081,
    "start_time": "2023-03-16T21:53:58.728Z"
   },
   {
    "duration": 890,
    "start_time": "2023-03-16T21:53:59.811Z"
   },
   {
    "duration": 22,
    "start_time": "2023-03-16T21:54:00.703Z"
   },
   {
    "duration": 29,
    "start_time": "2023-03-16T21:54:00.727Z"
   },
   {
    "duration": 33,
    "start_time": "2023-03-16T21:54:00.758Z"
   },
   {
    "duration": 23,
    "start_time": "2023-03-16T21:54:00.793Z"
   },
   {
    "duration": 24,
    "start_time": "2023-03-16T21:54:00.818Z"
   },
   {
    "duration": 18,
    "start_time": "2023-03-16T21:54:00.844Z"
   },
   {
    "duration": 40,
    "start_time": "2023-03-16T21:54:00.864Z"
   },
   {
    "duration": 29,
    "start_time": "2023-03-16T21:54:00.907Z"
   },
   {
    "duration": 31,
    "start_time": "2023-03-16T21:54:00.939Z"
   },
   {
    "duration": 155,
    "start_time": "2023-03-16T21:54:00.972Z"
   },
   {
    "duration": 3383,
    "start_time": "2023-03-16T21:54:12.075Z"
   },
   {
    "duration": 2905,
    "start_time": "2023-03-16T21:54:22.385Z"
   },
   {
    "duration": 1251,
    "start_time": "2023-03-17T10:46:18.849Z"
   },
   {
    "duration": 2884,
    "start_time": "2023-03-17T10:46:20.102Z"
   },
   {
    "duration": 30,
    "start_time": "2023-03-17T10:46:22.994Z"
   },
   {
    "duration": 38,
    "start_time": "2023-03-17T10:46:23.027Z"
   },
   {
    "duration": 28,
    "start_time": "2023-03-17T10:46:23.067Z"
   },
   {
    "duration": 31,
    "start_time": "2023-03-17T10:46:23.103Z"
   },
   {
    "duration": 6,
    "start_time": "2023-03-17T10:46:23.136Z"
   },
   {
    "duration": 18,
    "start_time": "2023-03-17T10:46:23.144Z"
   },
   {
    "duration": 14,
    "start_time": "2023-03-17T10:46:23.163Z"
   },
   {
    "duration": 29,
    "start_time": "2023-03-17T10:46:23.179Z"
   },
   {
    "duration": 120,
    "start_time": "2023-03-17T10:46:23.210Z"
   },
   {
    "duration": 58,
    "start_time": "2023-03-17T10:47:36.337Z"
   },
   {
    "duration": 24,
    "start_time": "2023-03-17T10:48:15.138Z"
   },
   {
    "duration": 16,
    "start_time": "2023-03-17T10:48:15.810Z"
   },
   {
    "duration": 1025,
    "start_time": "2023-03-17T10:51:03.922Z"
   },
   {
    "duration": 35,
    "start_time": "2023-03-17T10:51:36.344Z"
   },
   {
    "duration": 13,
    "start_time": "2023-03-17T10:56:02.251Z"
   },
   {
    "duration": 44,
    "start_time": "2023-03-17T10:56:05.384Z"
   },
   {
    "duration": 4,
    "start_time": "2023-03-17T10:56:29.065Z"
   },
   {
    "duration": 33590,
    "start_time": "2023-03-17T10:58:09.485Z"
   },
   {
    "duration": 45,
    "start_time": "2023-03-17T10:59:09.061Z"
   },
   {
    "duration": 9,
    "start_time": "2023-03-17T10:59:12.839Z"
   },
   {
    "duration": 15,
    "start_time": "2023-03-17T10:59:27.223Z"
   },
   {
    "duration": 1420,
    "start_time": "2023-03-17T10:59:47.232Z"
   },
   {
    "duration": 882,
    "start_time": "2023-03-17T10:59:48.654Z"
   },
   {
    "duration": 21,
    "start_time": "2023-03-17T10:59:49.539Z"
   },
   {
    "duration": 47,
    "start_time": "2023-03-17T10:59:49.563Z"
   },
   {
    "duration": 28,
    "start_time": "2023-03-17T10:59:49.614Z"
   },
   {
    "duration": 33,
    "start_time": "2023-03-17T10:59:49.644Z"
   },
   {
    "duration": 12,
    "start_time": "2023-03-17T10:59:49.679Z"
   },
   {
    "duration": 27,
    "start_time": "2023-03-17T10:59:49.696Z"
   },
   {
    "duration": 8,
    "start_time": "2023-03-17T10:59:49.734Z"
   },
   {
    "duration": 7,
    "start_time": "2023-03-17T10:59:49.749Z"
   },
   {
    "duration": 43,
    "start_time": "2023-03-17T10:59:49.759Z"
   },
   {
    "duration": 35332,
    "start_time": "2023-03-17T10:59:49.811Z"
   },
   {
    "duration": 10,
    "start_time": "2023-03-17T11:00:25.145Z"
   },
   {
    "duration": 1154,
    "start_time": "2023-03-17T11:01:02.228Z"
   },
   {
    "duration": 794,
    "start_time": "2023-03-17T11:01:03.385Z"
   },
   {
    "duration": 34,
    "start_time": "2023-03-17T11:01:04.181Z"
   },
   {
    "duration": 29,
    "start_time": "2023-03-17T11:01:04.218Z"
   },
   {
    "duration": 13,
    "start_time": "2023-03-17T11:01:04.250Z"
   },
   {
    "duration": 43,
    "start_time": "2023-03-17T11:01:04.270Z"
   },
   {
    "duration": 10,
    "start_time": "2023-03-17T11:01:04.315Z"
   },
   {
    "duration": 10,
    "start_time": "2023-03-17T11:01:04.328Z"
   },
   {
    "duration": 7,
    "start_time": "2023-03-17T11:01:04.341Z"
   },
   {
    "duration": 17,
    "start_time": "2023-03-17T11:01:04.351Z"
   },
   {
    "duration": 44,
    "start_time": "2023-03-17T11:01:04.371Z"
   },
   {
    "duration": 8,
    "start_time": "2023-03-17T11:01:04.417Z"
   },
   {
    "duration": 32657,
    "start_time": "2023-03-17T11:01:04.427Z"
   },
   {
    "duration": 17,
    "start_time": "2023-03-17T11:01:37.086Z"
   },
   {
    "duration": 1133,
    "start_time": "2023-03-17T11:01:54.306Z"
   },
   {
    "duration": 804,
    "start_time": "2023-03-17T11:01:55.443Z"
   },
   {
    "duration": 21,
    "start_time": "2023-03-17T11:01:56.249Z"
   },
   {
    "duration": 47,
    "start_time": "2023-03-17T11:01:56.272Z"
   },
   {
    "duration": 18,
    "start_time": "2023-03-17T11:01:56.321Z"
   },
   {
    "duration": 23,
    "start_time": "2023-03-17T11:01:56.341Z"
   },
   {
    "duration": 33,
    "start_time": "2023-03-17T11:01:56.366Z"
   },
   {
    "duration": 28,
    "start_time": "2023-03-17T11:01:56.400Z"
   },
   {
    "duration": 6,
    "start_time": "2023-03-17T11:01:56.430Z"
   },
   {
    "duration": 6,
    "start_time": "2023-03-17T11:01:56.438Z"
   },
   {
    "duration": 26,
    "start_time": "2023-03-17T11:01:56.446Z"
   },
   {
    "duration": 8,
    "start_time": "2023-03-17T11:01:56.474Z"
   },
   {
    "duration": 7379,
    "start_time": "2023-03-17T11:01:56.484Z"
   },
   {
    "duration": 0,
    "start_time": "2023-03-17T11:02:03.866Z"
   },
   {
    "duration": 11821,
    "start_time": "2023-03-17T11:02:49.144Z"
   },
   {
    "duration": 11938,
    "start_time": "2023-03-17T11:03:05.417Z"
   },
   {
    "duration": 4610,
    "start_time": "2023-03-17T11:03:35.243Z"
   },
   {
    "duration": 3305,
    "start_time": "2023-03-17T11:04:21.262Z"
   },
   {
    "duration": 6,
    "start_time": "2023-03-17T11:05:27.315Z"
   },
   {
    "duration": 5,
    "start_time": "2023-03-17T11:05:36.153Z"
   },
   {
    "duration": 8,
    "start_time": "2023-03-17T11:06:13.707Z"
   },
   {
    "duration": 6,
    "start_time": "2023-03-17T11:06:26.909Z"
   },
   {
    "duration": 12,
    "start_time": "2023-03-17T11:06:35.287Z"
   },
   {
    "duration": 4,
    "start_time": "2023-03-17T11:06:41.824Z"
   },
   {
    "duration": 11,
    "start_time": "2023-03-17T11:50:36.231Z"
   },
   {
    "duration": 10,
    "start_time": "2023-03-17T11:50:47.475Z"
   },
   {
    "duration": 21,
    "start_time": "2023-03-17T11:51:36.585Z"
   },
   {
    "duration": 46,
    "start_time": "2023-03-17T11:54:44.675Z"
   },
   {
    "duration": 37,
    "start_time": "2023-03-17T11:56:25.065Z"
   },
   {
    "duration": 1130,
    "start_time": "2023-03-17T12:46:46.803Z"
   },
   {
    "duration": 668,
    "start_time": "2023-03-17T12:46:47.935Z"
   },
   {
    "duration": 18,
    "start_time": "2023-03-17T12:46:48.605Z"
   },
   {
    "duration": 27,
    "start_time": "2023-03-17T12:46:48.626Z"
   },
   {
    "duration": 38,
    "start_time": "2023-03-17T12:46:48.655Z"
   },
   {
    "duration": 23,
    "start_time": "2023-03-17T12:46:48.695Z"
   },
   {
    "duration": 9,
    "start_time": "2023-03-17T12:46:48.720Z"
   },
   {
    "duration": 8,
    "start_time": "2023-03-17T12:46:48.731Z"
   },
   {
    "duration": 17,
    "start_time": "2023-03-17T12:46:48.740Z"
   },
   {
    "duration": 5,
    "start_time": "2023-03-17T12:46:48.759Z"
   },
   {
    "duration": 30,
    "start_time": "2023-03-17T12:46:48.766Z"
   },
   {
    "duration": 11397,
    "start_time": "2023-03-17T12:46:48.797Z"
   },
   {
    "duration": 2967537,
    "start_time": "2023-03-17T12:47:24.333Z"
   },
   {
    "duration": 79,
    "start_time": "2023-03-17T14:07:27.319Z"
   },
   {
    "duration": 1133,
    "start_time": "2023-03-17T14:07:31.213Z"
   },
   {
    "duration": 778,
    "start_time": "2023-03-17T14:07:32.348Z"
   },
   {
    "duration": 18,
    "start_time": "2023-03-17T14:07:33.128Z"
   },
   {
    "duration": 54,
    "start_time": "2023-03-17T14:07:33.149Z"
   },
   {
    "duration": 15,
    "start_time": "2023-03-17T14:07:33.208Z"
   },
   {
    "duration": 23,
    "start_time": "2023-03-17T14:07:33.225Z"
   },
   {
    "duration": 30,
    "start_time": "2023-03-17T14:07:33.250Z"
   },
   {
    "duration": 24,
    "start_time": "2023-03-17T14:07:33.282Z"
   },
   {
    "duration": 33,
    "start_time": "2023-03-17T14:07:33.307Z"
   },
   {
    "duration": 60,
    "start_time": "2023-03-17T14:07:33.343Z"
   },
   {
    "duration": 0,
    "start_time": "2023-03-17T14:07:33.407Z"
   },
   {
    "duration": 0,
    "start_time": "2023-03-17T14:07:33.408Z"
   },
   {
    "duration": 0,
    "start_time": "2023-03-17T14:07:33.410Z"
   },
   {
    "duration": 3,
    "start_time": "2023-03-17T14:07:44.634Z"
   },
   {
    "duration": 20,
    "start_time": "2023-03-17T14:07:45.085Z"
   },
   {
    "duration": 5299,
    "start_time": "2023-03-17T14:07:45.872Z"
   },
   {
    "duration": 34481,
    "start_time": "2023-03-17T14:07:54.726Z"
   },
   {
    "duration": 24,
    "start_time": "2023-03-17T14:09:12.647Z"
   },
   {
    "duration": 10,
    "start_time": "2023-03-17T14:09:18.230Z"
   },
   {
    "duration": 8,
    "start_time": "2023-03-17T14:09:22.255Z"
   },
   {
    "duration": 15,
    "start_time": "2023-03-17T14:10:05.918Z"
   },
   {
    "duration": 68,
    "start_time": "2023-03-17T14:10:24.424Z"
   },
   {
    "duration": 16,
    "start_time": "2023-03-17T14:10:27.901Z"
   },
   {
    "duration": 33,
    "start_time": "2023-03-17T14:10:43.954Z"
   },
   {
    "duration": 3,
    "start_time": "2023-03-17T14:11:57.503Z"
   },
   {
    "duration": 1162,
    "start_time": "2023-03-17T14:12:15.657Z"
   },
   {
    "duration": 874,
    "start_time": "2023-03-17T14:12:16.822Z"
   },
   {
    "duration": 31,
    "start_time": "2023-03-17T14:12:17.700Z"
   },
   {
    "duration": 42,
    "start_time": "2023-03-17T14:12:17.734Z"
   },
   {
    "duration": 89,
    "start_time": "2023-03-17T14:12:17.794Z"
   },
   {
    "duration": 47,
    "start_time": "2023-03-17T14:12:17.885Z"
   },
   {
    "duration": 76,
    "start_time": "2023-03-17T14:12:17.933Z"
   },
   {
    "duration": 24,
    "start_time": "2023-03-17T14:12:18.011Z"
   },
   {
    "duration": 8,
    "start_time": "2023-03-17T14:12:18.040Z"
   },
   {
    "duration": 19,
    "start_time": "2023-03-17T14:12:18.051Z"
   },
   {
    "duration": 39,
    "start_time": "2023-03-17T14:12:18.071Z"
   },
   {
    "duration": 15,
    "start_time": "2023-03-17T14:12:18.114Z"
   },
   {
    "duration": 37394,
    "start_time": "2023-03-17T14:12:18.130Z"
   },
   {
    "duration": 11,
    "start_time": "2023-03-17T14:13:04.866Z"
   },
   {
    "duration": 9,
    "start_time": "2023-03-17T14:13:08.463Z"
   },
   {
    "duration": 49,
    "start_time": "2023-03-17T14:16:35.444Z"
   },
   {
    "duration": 170,
    "start_time": "2023-03-17T14:16:55.404Z"
   },
   {
    "duration": 1142,
    "start_time": "2023-03-17T14:17:32.927Z"
   },
   {
    "duration": 738,
    "start_time": "2023-03-17T14:17:34.071Z"
   },
   {
    "duration": 20,
    "start_time": "2023-03-17T14:17:34.811Z"
   },
   {
    "duration": 72,
    "start_time": "2023-03-17T14:17:34.834Z"
   },
   {
    "duration": 20,
    "start_time": "2023-03-17T14:17:34.910Z"
   },
   {
    "duration": 33,
    "start_time": "2023-03-17T14:17:34.932Z"
   },
   {
    "duration": 27,
    "start_time": "2023-03-17T14:17:34.966Z"
   },
   {
    "duration": 11,
    "start_time": "2023-03-17T14:17:34.996Z"
   },
   {
    "duration": 10,
    "start_time": "2023-03-17T14:17:35.010Z"
   },
   {
    "duration": 17,
    "start_time": "2023-03-17T14:17:35.023Z"
   },
   {
    "duration": 23,
    "start_time": "2023-03-17T14:17:35.042Z"
   },
   {
    "duration": 36023,
    "start_time": "2023-03-17T14:17:35.067Z"
   },
   {
    "duration": 200,
    "start_time": "2023-03-17T14:18:11.099Z"
   },
   {
    "duration": 79,
    "start_time": "2023-03-17T14:19:23.347Z"
   },
   {
    "duration": 53,
    "start_time": "2023-03-17T14:24:43.498Z"
   },
   {
    "duration": 86,
    "start_time": "2023-03-17T14:24:48.338Z"
   },
   {
    "duration": 80,
    "start_time": "2023-03-17T14:24:58.675Z"
   },
   {
    "duration": 1149,
    "start_time": "2023-03-17T14:25:20.661Z"
   },
   {
    "duration": 812,
    "start_time": "2023-03-17T14:25:21.812Z"
   },
   {
    "duration": 20,
    "start_time": "2023-03-17T14:25:22.625Z"
   },
   {
    "duration": 49,
    "start_time": "2023-03-17T14:25:22.647Z"
   },
   {
    "duration": 22,
    "start_time": "2023-03-17T14:25:22.700Z"
   },
   {
    "duration": 24,
    "start_time": "2023-03-17T14:25:22.724Z"
   },
   {
    "duration": 6,
    "start_time": "2023-03-17T14:25:22.750Z"
   },
   {
    "duration": 20,
    "start_time": "2023-03-17T14:25:22.758Z"
   },
   {
    "duration": 27,
    "start_time": "2023-03-17T14:25:22.780Z"
   },
   {
    "duration": 4,
    "start_time": "2023-03-17T14:25:22.811Z"
   },
   {
    "duration": 17,
    "start_time": "2023-03-17T14:25:22.818Z"
   },
   {
    "duration": 36188,
    "start_time": "2023-03-17T14:25:22.837Z"
   },
   {
    "duration": 28511,
    "start_time": "2023-03-17T14:25:59.028Z"
   },
   {
    "duration": 19,
    "start_time": "2023-03-17T14:27:03.873Z"
   },
   {
    "duration": 8,
    "start_time": "2023-03-17T14:41:19.320Z"
   },
   {
    "duration": 5,
    "start_time": "2023-03-17T14:41:25.924Z"
   },
   {
    "duration": 5,
    "start_time": "2023-03-17T14:41:33.974Z"
   },
   {
    "duration": 103,
    "start_time": "2023-03-17T15:22:45.370Z"
   },
   {
    "duration": 766,
    "start_time": "2023-03-17T15:22:49.582Z"
   },
   {
    "duration": 684,
    "start_time": "2023-03-17T15:23:08.025Z"
   },
   {
    "duration": 1215,
    "start_time": "2023-03-17T15:23:29.590Z"
   },
   {
    "duration": 751,
    "start_time": "2023-03-17T15:23:30.808Z"
   },
   {
    "duration": 29,
    "start_time": "2023-03-17T15:23:31.560Z"
   },
   {
    "duration": 29,
    "start_time": "2023-03-17T15:23:31.592Z"
   },
   {
    "duration": 38,
    "start_time": "2023-03-17T15:23:31.623Z"
   },
   {
    "duration": 47,
    "start_time": "2023-03-17T15:23:31.662Z"
   },
   {
    "duration": 12,
    "start_time": "2023-03-17T15:23:31.711Z"
   },
   {
    "duration": 26,
    "start_time": "2023-03-17T15:23:31.725Z"
   },
   {
    "duration": 26,
    "start_time": "2023-03-17T15:23:31.753Z"
   },
   {
    "duration": 12,
    "start_time": "2023-03-17T15:23:31.782Z"
   },
   {
    "duration": 32,
    "start_time": "2023-03-17T15:23:31.797Z"
   },
   {
    "duration": 35008,
    "start_time": "2023-03-17T15:23:31.832Z"
   },
   {
    "duration": 28627,
    "start_time": "2023-03-17T15:24:06.841Z"
   },
   {
    "duration": 20,
    "start_time": "2023-03-17T15:24:35.470Z"
   },
   {
    "duration": 7,
    "start_time": "2023-03-17T15:24:35.492Z"
   },
   {
    "duration": 894,
    "start_time": "2023-03-17T15:24:40.750Z"
   },
   {
    "duration": 18,
    "start_time": "2023-03-17T15:24:47.415Z"
   },
   {
    "duration": 53,
    "start_time": "2023-03-17T15:25:51.256Z"
   },
   {
    "duration": 10,
    "start_time": "2023-03-17T15:25:58.629Z"
   },
   {
    "duration": 3,
    "start_time": "2023-03-17T15:27:22.450Z"
   },
   {
    "duration": 9,
    "start_time": "2023-03-17T15:29:16.589Z"
   },
   {
    "duration": 68,
    "start_time": "2023-03-17T15:29:48.401Z"
   },
   {
    "duration": 1147,
    "start_time": "2023-03-17T15:30:42.067Z"
   },
   {
    "duration": 755,
    "start_time": "2023-03-17T15:30:43.217Z"
   },
   {
    "duration": 35,
    "start_time": "2023-03-17T15:30:43.975Z"
   },
   {
    "duration": 34,
    "start_time": "2023-03-17T15:30:44.013Z"
   },
   {
    "duration": 15,
    "start_time": "2023-03-17T15:30:44.049Z"
   },
   {
    "duration": 26,
    "start_time": "2023-03-17T15:30:44.090Z"
   },
   {
    "duration": 8,
    "start_time": "2023-03-17T15:30:44.118Z"
   },
   {
    "duration": 6,
    "start_time": "2023-03-17T15:30:44.128Z"
   },
   {
    "duration": 5,
    "start_time": "2023-03-17T15:30:44.136Z"
   },
   {
    "duration": 3,
    "start_time": "2023-03-17T15:30:44.145Z"
   },
   {
    "duration": 21,
    "start_time": "2023-03-17T15:30:44.189Z"
   },
   {
    "duration": 35063,
    "start_time": "2023-03-17T15:30:44.214Z"
   },
   {
    "duration": 28274,
    "start_time": "2023-03-17T15:31:19.279Z"
   },
   {
    "duration": 14,
    "start_time": "2023-03-17T15:31:47.555Z"
   },
   {
    "duration": 29,
    "start_time": "2023-03-17T15:31:47.571Z"
   },
   {
    "duration": 120,
    "start_time": "2023-03-17T15:31:47.602Z"
   },
   {
    "duration": 0,
    "start_time": "2023-03-17T15:31:47.724Z"
   },
   {
    "duration": 11,
    "start_time": "2023-03-17T15:32:54.541Z"
   },
   {
    "duration": 26,
    "start_time": "2023-03-17T15:32:55.524Z"
   },
   {
    "duration": 12,
    "start_time": "2023-03-17T15:35:04.907Z"
   },
   {
    "duration": 26,
    "start_time": "2023-03-17T15:35:10.283Z"
   },
   {
    "duration": 282,
    "start_time": "2023-03-17T15:35:18.611Z"
   },
   {
    "duration": 189,
    "start_time": "2023-03-17T15:35:36.802Z"
   },
   {
    "duration": 1139,
    "start_time": "2023-03-17T15:36:26.155Z"
   },
   {
    "duration": 784,
    "start_time": "2023-03-17T15:36:27.296Z"
   },
   {
    "duration": 19,
    "start_time": "2023-03-17T15:36:28.082Z"
   },
   {
    "duration": 33,
    "start_time": "2023-03-17T15:36:28.104Z"
   },
   {
    "duration": 14,
    "start_time": "2023-03-17T15:36:28.138Z"
   },
   {
    "duration": 68,
    "start_time": "2023-03-17T15:36:28.154Z"
   },
   {
    "duration": 6,
    "start_time": "2023-03-17T15:36:28.224Z"
   },
   {
    "duration": 6,
    "start_time": "2023-03-17T15:36:28.233Z"
   },
   {
    "duration": 5,
    "start_time": "2023-03-17T15:36:28.241Z"
   },
   {
    "duration": 4,
    "start_time": "2023-03-17T15:36:28.249Z"
   },
   {
    "duration": 40,
    "start_time": "2023-03-17T15:36:28.254Z"
   },
   {
    "duration": 32835,
    "start_time": "2023-03-17T15:36:28.296Z"
   },
   {
    "duration": 25439,
    "start_time": "2023-03-17T15:37:01.133Z"
   },
   {
    "duration": 25,
    "start_time": "2023-03-17T15:37:26.574Z"
   },
   {
    "duration": 12,
    "start_time": "2023-03-17T15:37:26.600Z"
   },
   {
    "duration": 11,
    "start_time": "2023-03-17T15:37:26.614Z"
   },
   {
    "duration": 269,
    "start_time": "2023-03-17T15:37:26.626Z"
   },
   {
    "duration": 18,
    "start_time": "2023-03-17T15:38:25.225Z"
   },
   {
    "duration": 22,
    "start_time": "2023-03-17T15:38:39.349Z"
   },
   {
    "duration": 10,
    "start_time": "2023-03-17T15:38:50.183Z"
   },
   {
    "duration": 226,
    "start_time": "2023-03-17T15:38:52.841Z"
   },
   {
    "duration": 9,
    "start_time": "2023-03-17T15:39:14.522Z"
   },
   {
    "duration": 30,
    "start_time": "2023-03-17T15:40:22.532Z"
   },
   {
    "duration": 462,
    "start_time": "2023-03-17T15:40:24.530Z"
   },
   {
    "duration": 4,
    "start_time": "2023-03-17T15:41:59.292Z"
   },
   {
    "duration": 9,
    "start_time": "2023-03-17T15:42:12.908Z"
   },
   {
    "duration": 1068,
    "start_time": "2023-03-17T15:45:50.122Z"
   },
   {
    "duration": 764,
    "start_time": "2023-03-17T15:45:51.193Z"
   },
   {
    "duration": 17,
    "start_time": "2023-03-17T15:45:51.959Z"
   },
   {
    "duration": 35,
    "start_time": "2023-03-17T15:45:51.978Z"
   },
   {
    "duration": 13,
    "start_time": "2023-03-17T15:45:52.015Z"
   },
   {
    "duration": 21,
    "start_time": "2023-03-17T15:45:52.030Z"
   },
   {
    "duration": 36,
    "start_time": "2023-03-17T15:45:52.052Z"
   },
   {
    "duration": 6,
    "start_time": "2023-03-17T15:45:52.090Z"
   },
   {
    "duration": 11,
    "start_time": "2023-03-17T15:45:52.098Z"
   },
   {
    "duration": 4,
    "start_time": "2023-03-17T15:45:52.112Z"
   },
   {
    "duration": 12,
    "start_time": "2023-03-17T15:45:52.118Z"
   },
   {
    "duration": 34101,
    "start_time": "2023-03-17T15:45:52.132Z"
   },
   {
    "duration": 26031,
    "start_time": "2023-03-17T15:46:26.235Z"
   },
   {
    "duration": 20,
    "start_time": "2023-03-17T15:46:52.268Z"
   },
   {
    "duration": 11,
    "start_time": "2023-03-17T15:46:52.290Z"
   },
   {
    "duration": 12,
    "start_time": "2023-03-17T15:46:52.303Z"
   },
   {
    "duration": 36,
    "start_time": "2023-03-17T15:46:52.317Z"
   },
   {
    "duration": 236,
    "start_time": "2023-03-17T15:46:52.354Z"
   },
   {
    "duration": 5,
    "start_time": "2023-03-17T15:46:52.592Z"
   },
   {
    "duration": 103,
    "start_time": "2023-03-17T15:46:52.599Z"
   },
   {
    "duration": 85,
    "start_time": "2023-03-17T15:46:52.704Z"
   },
   {
    "duration": 16,
    "start_time": "2023-03-17T15:58:02.531Z"
   },
   {
    "duration": 18,
    "start_time": "2023-03-17T18:05:05.740Z"
   },
   {
    "duration": 14,
    "start_time": "2023-03-17T18:05:12.539Z"
   },
   {
    "duration": 1189,
    "start_time": "2023-03-17T18:05:37.498Z"
   },
   {
    "duration": 788,
    "start_time": "2023-03-17T18:05:38.690Z"
   },
   {
    "duration": 23,
    "start_time": "2023-03-17T18:05:39.480Z"
   },
   {
    "duration": 37,
    "start_time": "2023-03-17T18:05:39.506Z"
   },
   {
    "duration": 15,
    "start_time": "2023-03-17T18:05:39.545Z"
   },
   {
    "duration": 34,
    "start_time": "2023-03-17T18:05:39.590Z"
   },
   {
    "duration": 8,
    "start_time": "2023-03-17T18:05:39.627Z"
   },
   {
    "duration": 10,
    "start_time": "2023-03-17T18:05:39.637Z"
   },
   {
    "duration": 39,
    "start_time": "2023-03-17T18:05:39.649Z"
   },
   {
    "duration": 5,
    "start_time": "2023-03-17T18:05:39.693Z"
   },
   {
    "duration": 14,
    "start_time": "2023-03-17T18:05:39.699Z"
   },
   {
    "duration": 36032,
    "start_time": "2023-03-17T18:05:39.715Z"
   },
   {
    "duration": 29156,
    "start_time": "2023-03-17T18:06:15.749Z"
   },
   {
    "duration": 16,
    "start_time": "2023-03-17T18:06:44.907Z"
   },
   {
    "duration": 19,
    "start_time": "2023-03-17T18:06:44.925Z"
   },
   {
    "duration": 42,
    "start_time": "2023-03-17T18:06:44.947Z"
   },
   {
    "duration": 46,
    "start_time": "2023-03-17T18:06:44.991Z"
   },
   {
    "duration": 22,
    "start_time": "2023-03-17T18:06:45.039Z"
   },
   {
    "duration": 639,
    "start_time": "2023-03-17T18:06:45.063Z"
   },
   {
    "duration": 6,
    "start_time": "2023-03-17T18:07:07.379Z"
   },
   {
    "duration": 16,
    "start_time": "2023-03-17T18:07:18.723Z"
   },
   {
    "duration": 118,
    "start_time": "2023-03-17T18:21:56.857Z"
   },
   {
    "duration": 75,
    "start_time": "2023-03-17T18:22:13.816Z"
   },
   {
    "duration": 45,
    "start_time": "2023-03-17T18:22:46.295Z"
   },
   {
    "duration": 43,
    "start_time": "2023-03-17T18:23:07.098Z"
   },
   {
    "duration": 6,
    "start_time": "2023-03-17T18:23:18.734Z"
   },
   {
    "duration": 59,
    "start_time": "2023-03-17T18:23:28.759Z"
   },
   {
    "duration": 5,
    "start_time": "2023-03-17T18:23:34.567Z"
   },
   {
    "duration": 698,
    "start_time": "2023-03-17T18:23:53.190Z"
   },
   {
    "duration": 6,
    "start_time": "2023-03-17T18:24:12.653Z"
   },
   {
    "duration": 1259,
    "start_time": "2023-03-18T09:14:04.635Z"
   },
   {
    "duration": 3256,
    "start_time": "2023-03-18T09:14:05.902Z"
   },
   {
    "duration": 30,
    "start_time": "2023-03-18T09:14:09.161Z"
   },
   {
    "duration": 40,
    "start_time": "2023-03-18T09:14:09.195Z"
   },
   {
    "duration": 14,
    "start_time": "2023-03-18T09:14:09.237Z"
   },
   {
    "duration": 46,
    "start_time": "2023-03-18T09:14:09.253Z"
   },
   {
    "duration": 19,
    "start_time": "2023-03-18T09:14:09.301Z"
   },
   {
    "duration": 10,
    "start_time": "2023-03-18T09:14:09.322Z"
   },
   {
    "duration": 9,
    "start_time": "2023-03-18T09:14:09.334Z"
   },
   {
    "duration": 5,
    "start_time": "2023-03-18T09:14:09.346Z"
   },
   {
    "duration": 11,
    "start_time": "2023-03-18T09:14:09.353Z"
   },
   {
    "duration": 38994,
    "start_time": "2023-03-18T09:14:09.367Z"
   },
   {
    "duration": 29920,
    "start_time": "2023-03-18T09:14:48.363Z"
   },
   {
    "duration": 21,
    "start_time": "2023-03-18T09:15:18.290Z"
   },
   {
    "duration": 21,
    "start_time": "2023-03-18T09:15:18.313Z"
   },
   {
    "duration": 15,
    "start_time": "2023-03-18T09:15:18.336Z"
   },
   {
    "duration": 38,
    "start_time": "2023-03-18T09:15:18.354Z"
   },
   {
    "duration": 37,
    "start_time": "2023-03-18T09:15:18.394Z"
   },
   {
    "duration": 4,
    "start_time": "2023-03-18T09:15:18.433Z"
   },
   {
    "duration": 7,
    "start_time": "2023-03-18T09:15:18.439Z"
   },
   {
    "duration": 9,
    "start_time": "2023-03-18T09:15:18.448Z"
   },
   {
    "duration": 130,
    "start_time": "2023-03-18T09:16:37.272Z"
   },
   {
    "duration": 6,
    "start_time": "2023-03-18T09:16:43.506Z"
   },
   {
    "duration": 2537,
    "start_time": "2023-03-18T09:17:54.062Z"
   },
   {
    "duration": 11,
    "start_time": "2023-03-18T09:18:04.332Z"
   },
   {
    "duration": 17,
    "start_time": "2023-03-18T09:18:23.673Z"
   },
   {
    "duration": 6,
    "start_time": "2023-03-18T09:21:08.312Z"
   },
   {
    "duration": 1585,
    "start_time": "2023-03-18T09:22:23.372Z"
   },
   {
    "duration": 7,
    "start_time": "2023-03-18T09:25:21.506Z"
   },
   {
    "duration": 7,
    "start_time": "2023-03-18T09:30:37.308Z"
   },
   {
    "duration": 4,
    "start_time": "2023-03-18T09:32:39.908Z"
   },
   {
    "duration": 6,
    "start_time": "2023-03-18T09:35:56.622Z"
   },
   {
    "duration": 66,
    "start_time": "2023-03-18T09:57:25.728Z"
   },
   {
    "duration": 10,
    "start_time": "2023-03-18T09:57:31.455Z"
   },
   {
    "duration": 4,
    "start_time": "2023-03-18T09:57:47.228Z"
   },
   {
    "duration": 88,
    "start_time": "2023-03-18T09:58:59.227Z"
   },
   {
    "duration": 30,
    "start_time": "2023-03-18T09:59:01.961Z"
   },
   {
    "duration": 13,
    "start_time": "2023-03-18T09:59:35.130Z"
   },
   {
    "duration": 12,
    "start_time": "2023-03-18T09:59:55.837Z"
   },
   {
    "duration": 16,
    "start_time": "2023-03-18T10:00:14.885Z"
   },
   {
    "duration": 7,
    "start_time": "2023-03-18T10:00:47.720Z"
   },
   {
    "duration": 12,
    "start_time": "2023-03-18T10:02:45.457Z"
   },
   {
    "duration": 81,
    "start_time": "2023-03-18T10:11:30.904Z"
   },
   {
    "duration": 86,
    "start_time": "2023-03-18T10:11:41.372Z"
   },
   {
    "duration": 86,
    "start_time": "2023-03-18T10:11:52.817Z"
   },
   {
    "duration": 31,
    "start_time": "2023-03-18T10:11:57.738Z"
   },
   {
    "duration": 8,
    "start_time": "2023-03-18T10:12:08.942Z"
   },
   {
    "duration": 13,
    "start_time": "2023-03-18T10:12:21.488Z"
   },
   {
    "duration": 4,
    "start_time": "2023-03-18T10:12:40.927Z"
   },
   {
    "duration": 9,
    "start_time": "2023-03-18T10:13:15.567Z"
   },
   {
    "duration": 8,
    "start_time": "2023-03-18T10:13:38.624Z"
   },
   {
    "duration": 16,
    "start_time": "2023-03-18T10:14:53.656Z"
   },
   {
    "duration": 16,
    "start_time": "2023-03-18T10:25:26.923Z"
   },
   {
    "duration": 25,
    "start_time": "2023-03-18T10:25:41.264Z"
   },
   {
    "duration": 64,
    "start_time": "2023-03-18T10:26:07.895Z"
   },
   {
    "duration": 470,
    "start_time": "2023-03-18T10:26:15.289Z"
   },
   {
    "duration": 192,
    "start_time": "2023-03-18T10:26:28.928Z"
   },
   {
    "duration": 22,
    "start_time": "2023-03-18T10:31:59.920Z"
   },
   {
    "duration": 14,
    "start_time": "2023-03-18T10:32:01.932Z"
   },
   {
    "duration": 169,
    "start_time": "2023-03-18T10:32:57.749Z"
   },
   {
    "duration": 22,
    "start_time": "2023-03-18T10:33:28.357Z"
   },
   {
    "duration": 13,
    "start_time": "2023-03-18T11:05:21.410Z"
   },
   {
    "duration": 541,
    "start_time": "2023-03-18T11:05:36.286Z"
   },
   {
    "duration": 119,
    "start_time": "2023-03-18T11:13:17.857Z"
   },
   {
    "duration": 116,
    "start_time": "2023-03-18T11:13:26.431Z"
   },
   {
    "duration": 134,
    "start_time": "2023-03-18T11:13:31.157Z"
   },
   {
    "duration": 121,
    "start_time": "2023-03-18T11:13:40.808Z"
   },
   {
    "duration": 221,
    "start_time": "2023-03-18T11:13:46.455Z"
   },
   {
    "duration": 1462,
    "start_time": "2023-03-18T12:34:02.972Z"
   },
   {
    "duration": 785,
    "start_time": "2023-03-18T12:34:04.436Z"
   },
   {
    "duration": 19,
    "start_time": "2023-03-18T12:34:05.223Z"
   },
   {
    "duration": 66,
    "start_time": "2023-03-18T12:34:05.245Z"
   },
   {
    "duration": 16,
    "start_time": "2023-03-18T12:34:05.313Z"
   },
   {
    "duration": 23,
    "start_time": "2023-03-18T12:34:05.331Z"
   },
   {
    "duration": 27,
    "start_time": "2023-03-18T12:34:05.355Z"
   },
   {
    "duration": 6,
    "start_time": "2023-03-18T12:34:05.388Z"
   },
   {
    "duration": 6,
    "start_time": "2023-03-18T12:34:05.396Z"
   },
   {
    "duration": 3,
    "start_time": "2023-03-18T12:34:05.406Z"
   },
   {
    "duration": 15,
    "start_time": "2023-03-18T12:34:05.411Z"
   },
   {
    "duration": 34987,
    "start_time": "2023-03-18T12:34:05.427Z"
   },
   {
    "duration": 27109,
    "start_time": "2023-03-18T12:34:40.416Z"
   },
   {
    "duration": 15,
    "start_time": "2023-03-18T12:35:07.527Z"
   },
   {
    "duration": 43,
    "start_time": "2023-03-18T12:35:07.544Z"
   },
   {
    "duration": 27,
    "start_time": "2023-03-18T12:35:07.589Z"
   },
   {
    "duration": 14,
    "start_time": "2023-03-18T12:35:07.618Z"
   },
   {
    "duration": 346,
    "start_time": "2023-03-18T12:35:07.634Z"
   },
   {
    "duration": 8,
    "start_time": "2023-03-18T12:35:07.986Z"
   },
   {
    "duration": 107,
    "start_time": "2023-03-18T12:35:07.999Z"
   },
   {
    "duration": 16,
    "start_time": "2023-03-18T12:46:59.690Z"
   },
   {
    "duration": 170,
    "start_time": "2023-03-18T12:47:03.198Z"
   },
   {
    "duration": 10,
    "start_time": "2023-03-18T12:47:29.345Z"
   },
   {
    "duration": 137,
    "start_time": "2023-03-18T12:47:39.610Z"
   },
   {
    "duration": 140,
    "start_time": "2023-03-18T12:48:00.873Z"
   },
   {
    "duration": 5,
    "start_time": "2023-03-18T12:49:27.394Z"
   },
   {
    "duration": 5,
    "start_time": "2023-03-18T12:49:43.366Z"
   },
   {
    "duration": 18,
    "start_time": "2023-03-18T12:51:10.889Z"
   },
   {
    "duration": 109,
    "start_time": "2023-03-18T12:51:28.359Z"
   },
   {
    "duration": 4,
    "start_time": "2023-03-18T12:57:28.788Z"
   },
   {
    "duration": 4,
    "start_time": "2023-03-18T13:11:29.844Z"
   },
   {
    "duration": 5,
    "start_time": "2023-03-18T13:12:56.216Z"
   },
   {
    "duration": 5,
    "start_time": "2023-03-18T13:13:14.073Z"
   },
   {
    "duration": 5,
    "start_time": "2023-03-18T13:16:09.993Z"
   },
   {
    "duration": 4,
    "start_time": "2023-03-18T13:16:52.004Z"
   },
   {
    "duration": 17,
    "start_time": "2023-03-18T13:20:11.988Z"
   },
   {
    "duration": 18,
    "start_time": "2023-03-18T13:20:24.716Z"
   },
   {
    "duration": 18,
    "start_time": "2023-03-18T13:20:52.797Z"
   },
   {
    "duration": 119,
    "start_time": "2023-03-18T13:20:57.112Z"
   },
   {
    "duration": 134,
    "start_time": "2023-03-18T13:22:01.585Z"
   },
   {
    "duration": 209,
    "start_time": "2023-03-18T13:22:19.810Z"
   },
   {
    "duration": 5,
    "start_time": "2023-03-18T13:31:23.057Z"
   },
   {
    "duration": 5,
    "start_time": "2023-03-18T13:32:59.104Z"
   },
   {
    "duration": 5,
    "start_time": "2023-03-18T13:33:00.718Z"
   },
   {
    "duration": 15,
    "start_time": "2023-03-18T13:34:09.723Z"
   },
   {
    "duration": 17,
    "start_time": "2023-03-18T13:34:14.815Z"
   },
   {
    "duration": 161,
    "start_time": "2023-03-18T13:34:20.508Z"
   },
   {
    "duration": 3,
    "start_time": "2023-03-18T13:35:48.801Z"
   },
   {
    "duration": 168,
    "start_time": "2023-03-18T13:35:50.491Z"
   },
   {
    "duration": 5,
    "start_time": "2023-03-18T13:37:33.599Z"
   },
   {
    "duration": 224,
    "start_time": "2023-03-18T13:39:05.212Z"
   },
   {
    "duration": 308,
    "start_time": "2023-03-18T13:39:37.285Z"
   },
   {
    "duration": 12,
    "start_time": "2023-03-18T13:41:45.738Z"
   },
   {
    "duration": 11,
    "start_time": "2023-03-18T13:41:47.526Z"
   },
   {
    "duration": 10,
    "start_time": "2023-03-18T13:41:49.603Z"
   },
   {
    "duration": 16,
    "start_time": "2023-03-18T13:42:32.699Z"
   },
   {
    "duration": 72,
    "start_time": "2023-03-18T13:44:25.489Z"
   },
   {
    "duration": 21,
    "start_time": "2023-03-18T13:44:27.751Z"
   },
   {
    "duration": 10,
    "start_time": "2023-03-18T13:46:08.555Z"
   },
   {
    "duration": 215,
    "start_time": "2023-03-18T13:46:58.903Z"
   },
   {
    "duration": 223,
    "start_time": "2023-03-18T13:47:05.005Z"
   },
   {
    "duration": 135,
    "start_time": "2023-03-18T13:48:27.096Z"
   },
   {
    "duration": 243,
    "start_time": "2023-03-18T13:48:33.259Z"
   },
   {
    "duration": 227,
    "start_time": "2023-03-18T13:48:46.013Z"
   },
   {
    "duration": 242,
    "start_time": "2023-03-18T13:49:45.702Z"
   },
   {
    "duration": 251,
    "start_time": "2023-03-18T13:51:25.759Z"
   },
   {
    "duration": 254,
    "start_time": "2023-03-18T13:51:33.399Z"
   },
   {
    "duration": 251,
    "start_time": "2023-03-18T13:55:14.793Z"
   },
   {
    "duration": 265,
    "start_time": "2023-03-18T13:55:23.404Z"
   },
   {
    "duration": 379,
    "start_time": "2023-03-18T13:55:36.246Z"
   },
   {
    "duration": 243,
    "start_time": "2023-03-18T13:56:48.980Z"
   },
   {
    "duration": 243,
    "start_time": "2023-03-18T13:57:05.701Z"
   },
   {
    "duration": 9,
    "start_time": "2023-03-18T13:59:51.407Z"
   },
   {
    "duration": 219,
    "start_time": "2023-03-18T13:59:51.942Z"
   },
   {
    "duration": 259,
    "start_time": "2023-03-18T14:40:07.340Z"
   },
   {
    "duration": 229,
    "start_time": "2023-03-18T14:47:23.492Z"
   },
   {
    "duration": 217,
    "start_time": "2023-03-18T14:47:27.434Z"
   },
   {
    "duration": 222,
    "start_time": "2023-03-18T14:47:41.446Z"
   },
   {
    "duration": 229,
    "start_time": "2023-03-18T14:48:47.797Z"
   },
   {
    "duration": 205,
    "start_time": "2023-03-18T14:48:54.713Z"
   },
   {
    "duration": 95,
    "start_time": "2023-03-25T12:15:43.431Z"
   },
   {
    "duration": 1979,
    "start_time": "2023-03-25T13:04:06.390Z"
   },
   {
    "duration": 2984,
    "start_time": "2023-03-25T13:04:08.372Z"
   },
   {
    "duration": 20,
    "start_time": "2023-03-25T13:04:11.358Z"
   },
   {
    "duration": 26,
    "start_time": "2023-03-25T13:04:11.380Z"
   },
   {
    "duration": 22,
    "start_time": "2023-03-25T13:04:11.408Z"
   },
   {
    "duration": 24,
    "start_time": "2023-03-25T13:04:11.433Z"
   },
   {
    "duration": 7,
    "start_time": "2023-03-25T13:04:11.459Z"
   },
   {
    "duration": 6,
    "start_time": "2023-03-25T13:04:11.467Z"
   },
   {
    "duration": 6,
    "start_time": "2023-03-25T13:04:11.474Z"
   },
   {
    "duration": 5,
    "start_time": "2023-03-25T14:07:45.228Z"
   },
   {
    "duration": 27,
    "start_time": "2023-03-25T14:23:46.583Z"
   },
   {
    "duration": 43,
    "start_time": "2023-03-25T14:26:14.859Z"
   },
   {
    "duration": 15,
    "start_time": "2023-03-25T14:26:23.245Z"
   },
   {
    "duration": 34273,
    "start_time": "2023-03-25T14:26:26.955Z"
   },
   {
    "duration": 24,
    "start_time": "2023-03-25T14:27:13.585Z"
   },
   {
    "duration": 15,
    "start_time": "2023-03-25T14:27:17.373Z"
   },
   {
    "duration": 24,
    "start_time": "2023-03-25T14:27:18.395Z"
   },
   {
    "duration": 4,
    "start_time": "2023-03-25T14:27:20.152Z"
   },
   {
    "duration": 16,
    "start_time": "2023-03-25T14:27:20.338Z"
   },
   {
    "duration": 4,
    "start_time": "2023-03-25T14:27:28.207Z"
   },
   {
    "duration": 3,
    "start_time": "2023-03-25T14:27:28.383Z"
   },
   {
    "duration": 2,
    "start_time": "2023-03-25T14:27:30.956Z"
   },
   {
    "duration": 3,
    "start_time": "2023-03-25T14:27:31.569Z"
   },
   {
    "duration": 5,
    "start_time": "2023-03-25T14:27:32.147Z"
   },
   {
    "duration": 3083,
    "start_time": "2023-03-25T14:27:32.377Z"
   },
   {
    "duration": 76,
    "start_time": "2023-03-25T14:27:35.462Z"
   },
   {
    "duration": 3,
    "start_time": "2023-03-25T14:27:39.099Z"
   },
   {
    "duration": 2973,
    "start_time": "2023-03-25T14:27:39.191Z"
   },
   {
    "duration": 11,
    "start_time": "2023-03-25T14:27:42.167Z"
   },
   {
    "duration": 4,
    "start_time": "2023-03-25T14:27:44.797Z"
   },
   {
    "duration": 178,
    "start_time": "2023-03-25T14:51:10.198Z"
   },
   {
    "duration": 14,
    "start_time": "2023-03-25T14:51:18.457Z"
   },
   {
    "duration": 15,
    "start_time": "2023-03-25T14:51:33.449Z"
   },
   {
    "duration": 10,
    "start_time": "2023-03-25T14:52:47.077Z"
   },
   {
    "duration": 10,
    "start_time": "2023-03-25T14:53:31.562Z"
   },
   {
    "duration": 13,
    "start_time": "2023-03-25T14:53:36.745Z"
   },
   {
    "duration": 11,
    "start_time": "2023-03-25T14:53:45.803Z"
   },
   {
    "duration": 9,
    "start_time": "2023-03-25T14:53:57.373Z"
   },
   {
    "duration": 14,
    "start_time": "2023-03-25T14:54:05.740Z"
   },
   {
    "duration": 14,
    "start_time": "2023-03-25T14:56:54.847Z"
   },
   {
    "duration": 17,
    "start_time": "2023-03-25T14:59:06.994Z"
   },
   {
    "duration": 16,
    "start_time": "2023-03-25T14:59:09.595Z"
   },
   {
    "duration": 23,
    "start_time": "2023-03-25T14:59:12.009Z"
   },
   {
    "duration": 7,
    "start_time": "2023-03-25T14:59:18.969Z"
   },
   {
    "duration": 181,
    "start_time": "2023-03-25T14:59:19.485Z"
   },
   {
    "duration": 214,
    "start_time": "2023-03-26T13:47:50.791Z"
   },
   {
    "duration": 1523,
    "start_time": "2023-03-26T20:19:41.780Z"
   },
   {
    "duration": 2463,
    "start_time": "2023-03-26T20:19:43.305Z"
   },
   {
    "duration": 24,
    "start_time": "2023-03-26T20:19:45.770Z"
   },
   {
    "duration": 28,
    "start_time": "2023-03-26T20:19:45.796Z"
   },
   {
    "duration": 15,
    "start_time": "2023-03-26T20:19:45.826Z"
   },
   {
    "duration": 42,
    "start_time": "2023-03-26T20:19:45.843Z"
   },
   {
    "duration": 6,
    "start_time": "2023-03-26T20:19:45.886Z"
   },
   {
    "duration": 5,
    "start_time": "2023-03-26T20:19:45.894Z"
   },
   {
    "duration": 9,
    "start_time": "2023-03-26T20:19:45.901Z"
   },
   {
    "duration": 18,
    "start_time": "2023-03-26T20:19:45.913Z"
   },
   {
    "duration": 26898,
    "start_time": "2023-03-26T20:19:45.933Z"
   },
   {
    "duration": 5,
    "start_time": "2023-03-26T20:20:12.832Z"
   },
   {
    "duration": 43623,
    "start_time": "2023-03-26T20:20:12.839Z"
   },
   {
    "duration": 10,
    "start_time": "2023-03-26T20:20:56.464Z"
   },
   {
    "duration": 22191,
    "start_time": "2023-03-26T20:20:56.475Z"
   },
   {
    "duration": 19,
    "start_time": "2023-03-26T20:21:18.667Z"
   },
   {
    "duration": 24,
    "start_time": "2023-03-26T20:21:18.688Z"
   },
   {
    "duration": 17,
    "start_time": "2023-03-26T20:21:18.713Z"
   },
   {
    "duration": 3,
    "start_time": "2023-03-26T20:21:18.732Z"
   },
   {
    "duration": 9,
    "start_time": "2023-03-26T20:21:18.737Z"
   },
   {
    "duration": 7,
    "start_time": "2023-03-26T20:21:18.747Z"
   },
   {
    "duration": 211,
    "start_time": "2023-03-26T20:21:18.777Z"
   }
  ],
  "kernelspec": {
   "display_name": "Python 3 (ipykernel)",
   "language": "python",
   "name": "python3"
  },
  "language_info": {
   "codemirror_mode": {
    "name": "ipython",
    "version": 3
   },
   "file_extension": ".py",
   "mimetype": "text/x-python",
   "name": "python",
   "nbconvert_exporter": "python",
   "pygments_lexer": "ipython3",
   "version": "3.9.21"
  },
  "toc": {
   "base_numbering": 1,
   "nav_menu": {},
   "number_sections": true,
   "sideBar": true,
   "skip_h1_title": true,
   "title_cell": "",
   "title_sidebar": "Содержание",
   "toc_cell": true,
   "toc_position": {
    "height": "1063px",
    "left": "80px",
    "top": "111.125px",
    "width": "165px"
   },
   "toc_section_display": true,
   "toc_window_display": true
  }
 },
 "nbformat": 4,
 "nbformat_minor": 4
}
